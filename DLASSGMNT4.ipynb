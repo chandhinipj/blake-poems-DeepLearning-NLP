{
  "nbformat": 4,
  "nbformat_minor": 0,
  "metadata": {
    "colab": {
      "provenance": [],
      "authorship_tag": "ABX9TyM1ULpX8s56RVISPr2/O5jp",
      "include_colab_link": true
    },
    "kernelspec": {
      "name": "python3",
      "display_name": "Python 3"
    },
    "language_info": {
      "name": "python"
    }
  },
  "cells": [
    {
      "cell_type": "markdown",
      "metadata": {
        "id": "view-in-github",
        "colab_type": "text"
      },
      "source": [
        "<a href=\"https://colab.research.google.com/github/chandhinipj/blake-poems-DeepLearning-NLP/blob/main/DLASSGMNT4.ipynb\" target=\"_parent\"><img src=\"https://colab.research.google.com/assets/colab-badge.svg\" alt=\"Open In Colab\"/></a>"
      ]
    },
    {
      "cell_type": "markdown",
      "source": [
        "# Importing Libraries"
      ],
      "metadata": {
        "id": "GNe2NRGNs9q7"
      }
    },
    {
      "cell_type": "code",
      "execution_count": 36,
      "metadata": {
        "id": "6hgGTRQd4nOF"
      },
      "outputs": [],
      "source": [
        "# import python libraries\n",
        "import numpy as np\n",
        "from tensorflow.keras.models import Sequential, load_model\n",
        "from tensorflow.keras.layers import Dense, LSTM, Dropout\n",
        "from tensorflow.keras.utils import to_categorical\n",
        "from random import randint\n",
        "import re"
      ]
    },
    {
      "cell_type": "code",
      "source": [
        "import nltk   # natural language tool kit library\n",
        "nltk.download('gutenberg')  # downloads a library that NLTK uses\n",
        "\n",
        "from nltk.corpus import gutenberg as gut  # downloads the gutenberg dataset\n",
        "print(gut.fileids())    # prints the name of the files in the dataset"
      ],
      "metadata": {
        "colab": {
          "base_uri": "https://localhost:8080/"
        },
        "id": "MTGrmunss6hY",
        "outputId": "a70b6cdb-cb87-4b98-dbb0-083aedc598e5"
      },
      "execution_count": 12,
      "outputs": [
        {
          "output_type": "stream",
          "name": "stdout",
          "text": [
            "['austen-emma.txt', 'austen-persuasion.txt', 'austen-sense.txt', 'bible-kjv.txt', 'blake-poems.txt', 'bryant-stories.txt', 'burgess-busterbrown.txt', 'carroll-alice.txt', 'chesterton-ball.txt', 'chesterton-brown.txt', 'chesterton-thursday.txt', 'edgeworth-parents.txt', 'melville-moby_dick.txt', 'milton-paradise.txt', 'shakespeare-caesar.txt', 'shakespeare-hamlet.txt', 'shakespeare-macbeth.txt', 'whitman-leaves.txt']\n"
          ]
        },
        {
          "output_type": "stream",
          "name": "stderr",
          "text": [
            "[nltk_data] Downloading package gutenberg to /root/nltk_data...\n",
            "[nltk_data]   Package gutenberg is already up-to-date!\n"
          ]
        }
      ]
    },
    {
      "cell_type": "code",
      "source": [
        "# get the book text\n",
        "book_text = nltk.corpus.gutenberg.raw('blake-poems.txt')\n"
      ],
      "metadata": {
        "id": "wZfN-6n4tE36"
      },
      "execution_count": 13,
      "outputs": []
    },
    {
      "cell_type": "code",
      "source": [
        "print(book_text)"
      ],
      "metadata": {
        "id": "Ga_00kOHtKD7"
      },
      "execution_count": null,
      "outputs": []
    },
    {
      "cell_type": "markdown",
      "source": [
        "# Data preprocessing"
      ],
      "metadata": {
        "id": "fro313_iumOi"
      }
    },
    {
      "cell_type": "code",
      "source": [
        "# Data preprocessing\n",
        "def preprocess_text(sen):\n",
        "    # Remove punctuations and numbers\n",
        "    sentence = re.sub('[^a-zA-Z]', ' ', sen)\n",
        "\n",
        "    # Single character removal\n",
        "    sentence = re.sub(r\"\\s+[a-zA-Z]\\s+\", ' ', sentence)\n",
        "\n",
        "    # Removing multiple spaces\n",
        "    sentence = re.sub(r'\\s+', ' ', sentence)\n",
        "\n",
        "    return sentence.lower()\n",
        "book_text = preprocess_text(book_text)"
      ],
      "metadata": {
        "id": "B7PwUciHt4bV"
      },
      "execution_count": 14,
      "outputs": []
    },
    {
      "cell_type": "code",
      "source": [
        "print(book_text)"
      ],
      "metadata": {
        "colab": {
          "base_uri": "https://localhost:8080/"
        },
        "id": "NLEpeTPSt9vY",
        "outputId": "58186b7e-01bf-4555-d30a-90c18b98b678"
      },
      "execution_count": 15,
      "outputs": [
        {
          "output_type": "stream",
          "name": "stdout",
          "text": [
            " poems by william blake songs of innocence and of experience and the book of thel songs of innocence introduction piping down the valleys wild piping songs of pleasant glee on cloud saw child and he laughing said to me pipe song about lamb so piped with merry cheer piper pipe that song again so piped he wept to hear drop thy pipe thy happy pipe sing thy songs of happy cheer so sang the same again while he wept with joy to hear piper sit thee down and write in book that all may read so he vanish from my sight and pluck a hollow reed and made rural pen and stain the water clear and wrote my happy songs every child may joy to hear the shepherd how sweet is the shepherd sweet lot from the morn to the evening he stays he shall follow his sheep all the day and his tongue shall be filled with praise for he hears the lambs innocent call and he hears the ewes tender reply he is watching while they are in peace for they know when their shepherd is nigh the echoing green the sun does arise and make happy the skies the merry bells ring to welcome the spring the skylark and thrush the birds of the bush sing louder around to the bells cheerful sound while our sports shall be seen on the echoing green old john with white hair does laugh away care sitting under the oak among the old folk they laugh at our play and soon they all say such such were the joys when we all girls and boys in our youth time were seen on the echoing green till the little ones weary no more can be merry the sun does descend and our sports have an end round the laps of their mothers many sisters and brothers like birds in their nest are ready for rest and sport no more seen on the darkening green the lamb little lamb who make thee dost thou know who made thee gave thee life and bid thee feed by the stream and er the mead gave thee clothing of delight softest clothing wolly bright gave thee such tender voice making all the vales rejoice little lamb who made thee dost thou know who made thee little lamb ll tell thee little lamb ll tell thee he is called by thy name for he calls himself lamb he is meek and he is mild he became little child a child and thou lamb we are called by his name little lamb god bless thee little lamb god bless thee the little black boy my mother bore me in the southern wild and am black but oh my soul is white white as an angel is the english child but am black as if bereaved of light my mother taught me underneath tree and sitting down before the heat of day she took me on her lap and kissed me and pointed to the east began to say look on the rising sun there god does live and gives his light and gives his heat away and flowers and trees and beasts and men receive comfort in morning joy in the noonday and we are put on earth little space that we may learn to bear the beams of love and these black bodies and this sunburnt face is but cloud and like shady grove for when our souls have learn the heat to bear the cloud will vanish we shall hear his voice saying come out from the grove my love and care and round my golden tent like lambs rejoice thus did my mother say and kissed me and thus say to little english boy when from black and he from white cloud free and round the tent of god like lambs we joy ll shade him from the heat till he can bear to lean in joy upon our father knee and then ll stand and stroke his silver hair and be like him and he will then love me the blossom merry merry sparrow under leaves so green happy blossom sees you swift as arrow seek your cradle narrow near my bosom pretty pretty robin under leaves so green happy blossom hears you sobbing sobbing pretty pretty robin near my bosom the chimney sweeper when my mother died was very young and my father sold me while yet my tongue could scarcely cry weep weep weep weep so your chimneys sweep and in soot sleep there little tom dacre who cried when his head that curled like lamb back was shaved so said hush tom never mind it for when your head bare you know that the soot cannot spoil your white hair and so he was quiet and that very night as tom was sleeping he had such sight that thousands of sweepers dick joe ned and jack were all of them locked up in coffins of black and by came an angel who had bright key and he opened the coffins and let them all free then down green plain leaping laughing they run and wash in river and shine in the sun then naked and white all their bags left behind they rise upon clouds and sport in the wind and the angel told tom if he be good boy he have god for his father and never want joy and so tom awoke and we rose in the dark and got with our bags and our brushes to work though the morning was cold tom was happy and warm so if all do their duty they need not fear harm the little boy lost father father where are you going oh do not walk so fast speak father speak to you little boy or else shall be lost the night was dark no father was there the child was wet with dew the mire was deep and the child did weep and away the vapour flew the little boy found the little boy lost in the lonely fen led by the wandering light began to cry but god ever nigh appeared like his father in white he kissed the child and by the hand led and to his mother brought who in sorrow pale through the lonely dale the little boy weeping sought laughing song when the green woods laugh with the voice of joy and the dimpling stream runs laughing by when the air does laugh with our merry wit and the green hill laughs with the noise of it when the meadows laugh with lively green and the grasshopper laughs in the merry scene when mary and susan and emily with their sweet round mouths sing ha ha he when the painted birds laugh in the shade where our table with cherries and nuts is spread come live and be merry and join with me to sing the sweet chorus of ha ha he song sweet dreams form shade er my lovely infant head sweet dreams of pleasant streams by happy silent moony beams sweet sleep with soft down weave thy brows an infant crown sweet sleep angel mild hover er my happy child sweet smiles in the night hover over my delight sweet smiles mother smile all the livelong night beguile sweet moans dovelike sighs chase not slumber from thine eyes sweet moan sweeter smile all the dovelike moans beguile sleep sleep happy child all creation slept and smiled sleep sleep happy sleep while er thee doth mother weep sweet babe in thy face holy image can trace sweet babe once like thee thy maker lay and wept for me wept for me for thee for all when he was an infant small thou his image ever see heavenly face that smiles on thee smiles on thee on me on all who became an infant small infant smiles are his own smiles heaven and earth to peace beguiles divine image to mercy pity peace and love all pray in their distress and to these virtues of delight return their thankfulness for mercy pity peace and love is god our father dear and mercy pity peace and love is man his child and care for mercy has human heart pity human face and love the human form divine and peace the human dress then every man of every clime that prays in his distress prays to the human form divine love mercy pity peace and all must love the human form in heathen turk or jew where mercy love and pity dwell there god is dwelling too holy thursday twas on holy thursday their innocent faces clean came children walking two and two in read and blue and green grey headed beadles walked before with wands as white as snow till into the high dome of paul they like thames waters flow oh what multitude they seemed these flowers of london town seated in companies they sit with radiance all their own the hum of multitudes was there but multitudes of lambs thousands of little boys and girls raising their innocent hands now like mighty wild they raise to heaven the voice of song or like harmonious thunderings the seats of heaven among beneath them sit the aged man wise guardians of the poor then cherish pity lest you drive an angel from your door night the sun descending in the west the evening star does shine the birds are silent in their nest and must seek for mine the moon like flower in heaven high bower with silent delight sits and smiles on the night farewell green fields and happy grove where flocks have ta en delight where lambs have nibbled silent move the feet of angels bright unseen they pour blessing and joy without ceasing on each bud and blossom and each sleeping bosom they look in every thoughtless nest where birds are covered warm they visit caves of every beast to keep them all from harm if they see any weeping that should have been sleeping they pour sleep on their head and sit down by their bed when wolves and tigers howl for prey they pitying stand and weep seeking to drive their thirst away and keep them from the sheep but if they rush dreadful the angels most heedful receive each mild spirit new worlds to inherit and there the lion ruddy eyes shall flow with tears of gold and pitying the tender cries and walking round the fold saying wrath by his meekness and by his health sickness are driven away from our immortal day and now beside thee bleating lamb can lie down and sleep or think on him who bore thy name graze after thee and weep for washed in life river my bright mane for ever shall shine like the gold as guard er the fold spring sound the flute now it mute bird delight day and night nightingale in the dale lark in sky merrily merrily merrily to welcome in the year little boy full of joy little girl sweet and small cock does crow so do you merry voice infant noise merrily merrily to welcome in the year little lamb here am come and lick my white neck let me pull your soft wool let me kiss your soft face merrily merrily to welcome in the year nurse song when the voices of children are heard on the green and laughing is heard on the hill my heart is at rest within my breast and everything else is still then come home my children the sun is gone down and the dews of night arise come come leave off play and let us away till the morning appears in the skies no no let us play for it is yet day and we cannot go to sleep besides in the sky the little birds fly and the hills are all covered with sheep well well go and play till the light fades away and then go home to bed the little ones leaped and shouted and laughed and all the hills echoed infant joy have no name am but two days old what shall call thee happy am joy is my name sweet joy befall thee pretty joy sweet joy but two days old sweet joy call thee thou dost smile sing the while sweet joy befall thee dream once dream did weave shade er my angel guarded bed that an emmet lost its way where on grass methought lay troubled wildered and forlorn dark benighted travel worn over many tangle spray all heart broke heard her say oh my children do they cry do they hear their father sigh now they look abroad to see now return and weep for me pitying dropped tear but saw glow worm near who replied what wailing wight calls the watchman of the night am set to light the ground while the beetle goes his round follow now the beetle hum little wanderer hie thee home on another sorrow can see another woe and not be in sorrow too can see another grief and not seek for kind relief can see falling tear and not feel my sorrow share can father see his child weep nor be with sorrow filled can mother sit and hear an infant groan an infant fear no no never can it be never never can it be and can he who smiles on all hear the wren with sorrows small hear the small bird grief and care hear the woes that infants bear and not sit beside the next pouring pity in their breast and not sit the cradle near weeping tear on infant tear and not sit both night and day wiping all our tears away oh no never can it be never never can it be he doth give his joy to all he becomes an infant small he becomes man of woe he doth feel the sorrow too think not thou canst sigh sigh and thy maker is not by think not thou canst weep tear and thy maker is not year oh he gives to us his joy that our grief he may destroy till our grief is fled an gone he doth sit by us and moan songs of experience introduction hear the voice of the bard who present past and future sees whose ears have heard the holy word that walked among the ancient tree calling the lapsed soul and weeping in the evening dew that might control the starry pole and fallen fallen light renew earth earth return arise from out the dewy grass night is worn and the morn rises from the slumbrous mass turn away no more why wilt thou turn away the starry floor the watery shore are given thee till the break of day earth answer earth raised up her head from the darkness dread and drear her light fled stony dread and her locks covered with grey despair prisoned on watery shore starry jealousy does keep my den cold and hoar weeping re hear the father of the ancient men selfish father of men cruel jealous selfish fear can delight chained in night the virgins of youth and morning bear does spring hide its joy when buds and blossoms grow does the sower sow by night or the plowman in darkness plough break this heavy chain that does freeze my bones around selfish vain eternal bane that free love with bondage bound the clod and the pebble love seeketh not itself to please nor for itself hath any care but for another gives it ease and builds heaven in hell despair so sang little clod of clay trodden with the cattle feet but pebble of the brook warbled out these metres meet love seeketh only self to please to bind another to its delight joys in another loss of ease and builds hell in heaven despite holy thursday is this holy thing to see in rich and fruitful land babes reduced to misery fed with cold and usurous hand is that trembling cry song can it be song of joy and so many children poor it is land of poverty and their son does never shine and their fields are bleak and bare and their ways are filled with thorns it is eternal winter there for where er the sun does shine and where er the rain does fall babes should never hunger there nor poverty the mind appall the little girl lost in futurity prophetic see that the earth from sleep grave the sentence deep shall arise and seek for her maker meek and the desert wild become garden mild in the southern clime where the summer prime never fades away lovely lyca lay seven summers old lovely lyca told she had wandered long hearing wild birds song sweet sleep come to me underneath this tree do father mother weep where can lyca sleep lost in desert wild is your little child how can lyca sleep if her mother weep if her heart does ache then let lyca wake if my mother sleep lyca shall not weep frowning frowning night er this desert bright let thy moon arise while close my eyes sleeping lyca lay while the beasts of prey come from caverns deep viewed the maid asleep the kingly lion stood and the virgin viewed then he gambolled round er the hallowed ground leopards tigers play round her as she lay while the lion old bowed his mane of gold and her breast did lick and upon her neck from his eyes of flame ruby tears there came while the lioness loosed her slender dress and naked they conveyed to caves the sleeping maid the little girl found all the night in woe lyca parents go over valleys deep while the deserts weep tired and woe begone hoarse with making moan arm in arm seven days they traced the desert ways seven nights they sleep among shadows deep and dream they see their child starved in desert wild pale through pathless ways the fancied image strays famished weeping weak with hollow piteous shriek rising from unrest the trembling woman presse with feet of weary woe she could no further go in his arms he bore her armed with sorrow sore till before their way couching lion lay turning back was vain soon his heavy mane bore them to the ground then he stalked around smelling to his prey but their fears allay when he licks their hands and silent by them stands they look upon his eyes filled with deep surprise and wondering behold spirit armed in gold on his head crown on his shoulders down flowed his golden hair gone was all their care follow me he said weep not for the maid in my palace deep lyca lies asleep then they followed where the vision led and saw their sleeping child among tigers wild to this day they dwell in lonely dell nor fear the wolvish howl nor the lion growl the chimney sweeper little black thing in the snow crying weep weep in notes of woe where are thy father and mother say they are both gone up to the church to pray because was happy upon the heath and smiled among the winter snow they clothed me in the clothes of death and taught me to sing the notes of woe and because am happy and dance and sing they think they have done me no injury and are gone to praise god and his priest and king who make up heaven of our misery nurse song when voices of children are heard on the green and whisperings are in the dale the days of my youth rise fresh in my mind my face turns green and pale then come home my children the sun is gone down and the dews of night arise your spring and your day are wasted in play and your winter and night in disguise the sick rose rose thou art sick the invisible worm that flies in the night in the howling storm has found out thy bed of crimson joy and his dark secret love does thy life destroy the fly little fly thy summer play my thoughtless hand has brushed away am not a fly like thee or art not thou man like me for dance and drink and sing till some blind hand shall brush my wing if thought is life and strength and breath and the want of thought is death then am a happy fly if live or if die the angel dreamt dream what can it mean and that was maiden queen guarded by an angel mild witless woe was ne er beguiled and wept both night and day and he wiped my tears away and wept both day and night and hid from him my heart delight so he took his wings and fled then the morn blushed rosy red dried my tears and armed my fears with ten thousand shields and spears soon my angel came again was armed he came in vain for the time of youth was fled and grey hairs were on my head the tiger tiger tiger burning bright in the forest of the night what immortal hand or eye could frame thy fearful symmetry in what distant deeps or skies burnt the fire of thine eyes on what wings dare he aspire what the hand dare seize the fire and what shoulder and what art could twist the sinews of thy heart and when thy heart began to beat what dread hand and what dread feet what the hammer what the chain in what furnace was thy brain what the anvil what dread grasp dare its deadly terrors clasp when the stars threw down their spears and watered heaven with their tears did he smile his work to see did he who made the lamb make thee tiger tiger burning bright in the forests of the night what immortal hand or eye dare frame thy fearful symmetry my pretty rose tree flower was offered to me such flower as may never bore but said ve pretty rose tree and passed the sweet flower er then went to my pretty rose tree to tend her by day and by night but my rose turned away with jealousy and her thorns were my only delight ah sunflower ah sunflower weary of time who countest the steps of the sun seeking after that sweet golden clime where the traveller journey is done where the youth pined away with desire and the pale virgin shrouded in snow arise from their graves and aspire where my sunflower wishes to go the lily the modest rose puts forth thorn the humble sheep threat ning horn while the lily white shall in love delight nor thorn nor threat stain her beauty bright the garden of love laid me down upon bank where love lay sleeping heard among the rushes dank weeping weeping then went to the heath and the wild to the thistles and thorns of the waste and they told me how they were beguiled driven out and compelled to the chaste went to the garden of love and saw what never had seen chapel was built in the midst where used to play on the green and the gates of this chapel were shut and thou shalt not writ over the door so turned to the garden of love that so many sweet flowers bore and saw it was filled with graves and tombstones where flowers should be and priests in black gowns were walking their rounds and binding with briars my joys and desires the little vagabond dear mother dear mother the church is cold but the alehouse is healthy and pleasant and warm besides can tell where am used well the poor parsons with wind like blown bladder swell but if at the church they would give us some ale and pleasant fire our souls to regale we sing and we pray all the livelong day nor ever once wish from the church to stray then the parson might preach and drink and sing and we be as happy as birds in the spring and modest dame lurch who is always at church would not have bandy children nor fasting nor birch and god like father rejoicing to see his children as pleasant and happy as he would have no more quarrel with the devil or the barrel but kiss him and give him both drink and apparel london wandered through each chartered street near where the chartered thames does flow mark in every face meet marks of weakness marks of woe in every cry of every man in every infant cry of fear in every voice in every ban the mind forged manacles hear how the chimney sweeper cry every blackening church appals and the hapless soldier sigh runs in blood down palace walls but most through midnight streets hear how the youthful harlot curse blasts the new born infant tear and blights with plagues the marriage hearse the human abstract pity would be no more if we did not make somebody poor and mercy no more could be if all were as happy as we and mutual fear brings peace till the selfish loves increase then cruelty knits snare and spreads his baits with care he sits down with his holy fears and waters the ground with tears then humility takes its root underneath his foot soon spreads the dismal shade of mystery over his head and the caterpillar and fly feed on the mystery and it bears the fruit of deceit ruddy and sweet to eat and the raven his nest has made in its thickest shade the gods of the earth and sea sought through nature to find this tree but their search was all in vain there grows one in the human brain infant sorrow my mother groaned my father wept into the dangerous world leapt helpless naked piping loud like fiend hid in cloud struggling in my father hands striving against my swaddling bands bound and weary thought best to sulk upon my mother breast poison tree was angry with my friend told my wrath my wrath did end was angry with my foe told it not my wrath did grow and watered it in fears night and morning with my tears and sunned it with smiles and with soft deceitful wiles and it grew both day and night till it bore an apple bright and my foe beheld it shine and he knew that it was mine and into my garden stole when the night had veiled the pole in the morning glad see my foe outstretched beneath the tree little boy lost nought loves another as itself nor venerates another so nor is it possible to thought greater than itself to know and father how can love you or any of my brothers more love you like the little bird that picks up crumbs around the door the priest sat by and heard the child in trembling zeal he seized his hair he led him by his little coat and all admired the priestly care and standing on the altar high lo what fiend is here said he one who sets reason up for judge of our most holy mystery the weeping child could not be heard the weeping parents wept in vain they stripped him to his little shirt and bound him in an iron chain and burned him in holy place where many had been burned before the weeping parents wept in vain are such thing done on albion shore little girl lost children of the future age reading this indignant page know that in former time love sweet love was thought crime in the age of gold free from winter cold youth and maiden bright to the holy light naked in the sunny beams delight once youthful pair filled with softest care met in garden bright where the holy light had just removed the curtains of the night then in rising day on the grass they play parents were afar strangers came not near and the maiden soon forgot her fear tired with kisses sweet they agree to meet when the silent sleep waves er heaven deep and the weary tired wanderers weep to her father white came the maiden bright but his loving look like the holy book all her tender limbs with terror shook ona pale and weak to thy father speak oh the trembling fear oh the dismal care that shakes the blossoms of my hoary hair the schoolboy love to rise on summer morn when birds are singing on every tree the distant huntsman winds his horn and the skylark sings with me oh what sweet company but to go to school in summer morn oh it drives all joy away under cruel eye outworn the little ones spend the day in sighing and dismay ah then at times drooping sit and spend many an anxious hour nor in my book can take delight nor sit in learning bower worn through with the dreary shower how can the bird that is born for joy sit in cage and sing how can child when fears annoy but droop his tender wing and forget his youthful spring oh father and mother if buds are nipped and blossoms blown away and if the tender plants are stripped of their joy in the springing day by sorrow and care dismay how shall the summer arise in joy or the summer fruits appear or how shall we gather what griefs destroy or bless the mellowing year when the blasts of winter appear to terzah whate er is born of mortal birth must be consumed with the earth to rise from generation free then what have to do with thee the sexes sprang from shame and pride blown in the morn in evening died but mercy changed death into sleep the sexes rose to work and weep thou mother of my mortal part with cruelty didst mould my heart and with false self deceiving tears didst bind my nostrils eyes and ears didst close my tongue in senseless clay and me to mortal life betray the death of jesus set me free then what have to do with thee the voice of the ancient bard youth of delight come hither and see the opening morn image of truth new born doubt is fled and clouds of reason dark disputes and artful teazing folly is an endless maze tangled roots perplex her ways how many have fallen there they stumble all night over bones of the dead and feel they know not what but care and wish to lead others when they should be led appendix divine image cruelty has human heart and jealousy human face terror the human form divine and secresy the human dress the human dress is forged iron the human form fiery forge the human face furnace sealed the human heart its hungry gorge note though written and engraved by blake divine image was never included in the songs of innocence and of experience william blake the book of thel thel motto does the eagle know what is in the pit or wilt thou go ask the mole can wisdom be put in silver rod or love in golden bowl the book of thel the author printer willm blake thel the daughters of mne seraphim led round their sunny flocks all but the youngest she in paleness sought the secret air to fade away like morning beauty from her mortal day down by the river of adona her soft voice is heard and thus her gentle lamentation falls like morning dew life of this our spring why fades the lotus of the water why fade these children of the spring born but to smile fall ah thel is like watry bow and like parting cloud like reflection in glass like shadows in the water like dreams of infants like smile upon an infants face like the doves voice like transient day like music in the air ah gentle may lay me down and gentle rest my head and gentle sleep the sleep of death and gently hear the voice of him that walketh in the garden in the evening time the lilly of the valley breathing in the humble grass answerd the lovely maid and said am watry weed and am very small and love to dwell in lowly vales so weak the gilded butterfly scarce perches on my head yet am visited from heaven and he that smiles on all walks in the valley and each morn over me spreads his hand saying rejoice thou humble grass thou new born lily flower thou gentle maid of silent valleys and of modest brooks for thou shall be clothed in light and fed with morning manna till summers heat melts thee beside the fountains and the springs to flourish in eternal vales they why should thel complain why should the mistress of the vales of har utter sigh she ceasd smild in tears then sat down in her silver shrine thel answerd thou little virgin of the peaceful valley giving to those that cannot crave the voiceless the er tired the breath doth nourish the innocent lamb he smells the milky garments he crops thy flowers while thou sittest smiling in his face wiping his mild and meekin mouth from all contagious taints thy wine doth purify the golden honey thy perfume which thou dost scatter on every little blade of grass that springs revives the milked cow tames the fire breathing steed but thel is like faint cloud kindled at the rising sun vanish from my pearly throne and who shall find my place queen of the vales the lily answered ask the tender cloud and it shall tell thee why it glitters in the morning sky and why it scatters its bright beauty thro the humid air descend little cloud hover before the eyes of thel the cloud descended and the lily bowd her modest head and went to mind her numerous charge among the verdant grass ii little cloud the virgin said charge thee to tell me why thou complainest now when in one hour thou fade away then we shall seek thee but not find ah thel is like to thee pass away yet complain and no one hears my voice the cloud then shewd his golden head his bright form emerg hovering and glittering on the air before the face of thel virgin know st thou not our steeds drink of the golden springs where luvah doth renew his horses lookst thou on my youth and fearest thou because vanish and am seen no more nothing remains maid tell thee when pass away it is to tenfold life to love to peace and raptures holy unseen descending weigh my light wings upon balmy flowers and court the fair eyed dew to take me to her shining tent the weeping virgin trembling kneels before the risen sun till we arise link in golden band and never part but walk united bearing food to all our tender flowers dost thou little cloud fear that am not like thee for walk through the vales of har and smell the sweetest flowers but feed not the little flowers hear the warbling birds but feed not the warbling birds they fly and seek their food but thel delights in these no more because fade away and all shall say without use this shining women liv or did she only live to be at death the food of worms the cloud reclind upon his airy throne and answerd thus then if thou art the food of worms virgin of the skies how great thy use how great thy blessing every thing that lives lives not alone nor or itself fear not and will call the weak worm from its lowly bed and thou shalt hear its voice come forth worm and the silent valley to thy pensive queen the helpless worm arose and sat upon the lillys leaf and the bright cloud saild on to find his partner in the vale iii then thel astonish view the worm upon its dewy bed art thou worm image of weakness art thou but worm see thee like an infant wrapped in the lillys leaf ah weep not little voice thou can st not speak but thou can st weep is this worm see they lay helpless naked weeping and none to answer none to cherish thee with mothers smiles the clod of clay heard the worms voice rais her pitying head she bowd over the weeping infant and her life exhald in milky fondness then on thel she fix her humble eyes beauty of the vales of har we live not for ourselves thou seest me the meanest thing and so am indeed my bosom of itself is cold and of itself is dark but he that loves the lowly pours his oil upon my head and kisses me and binds his nuptial bands around my breast and says thou mother of my children have loved thee and have given thee crown that none can take away but how this is sweet maid know not and cannot know ponder and cannot ponder yet live and love the daughter of beauty wip her pitying tears with her white veil and said alas knew not this and therefore did weep that god would love worm knew and punish the evil foot that wilful bruis its helpless form but that he cherish it with milk and oil never knew and therefore did weep and complaind in the mild air because fade away and lay me down in thy cold bed and leave my shining lot queen of the vales the matron clay answered heard thy sighs and all thy moans flew er my roof but have call them down wilt thou queen enter my house tis given thee to enter and to return fear nothing enter with thy virgin feet iv the eternal gates terrific porter lifted the northern bar thel enter in saw the secrets of the land unknown she saw the couches of the dead where the fibrous roots of every heart on earth infixes deep its restless twists land of sorrows of tears where never smile was seen she wandered in the land of clouds thro valleys dark listning dolors lamentations waiting oft beside the dewy grave she stood in silence listning to the voices of the ground till to her own grave plot she came there she sat down and heard this voice of sorrow breathed from the hollow pit why cannot the ear be closed to its own destruction or the glistening eye to the poison of smile why are eyelids stord with arrows ready drawn where thousand fighting men in ambush lie or an eye of gifts graces showring fruits coined gold why tongue impress with honey from every wind why an ear whirlpool fierce to draw creations in why nostril wide inhaling terror trembling affright why tender curb upon the youthful burning boy why little curtain of flesh on the bed of our desire the virgin started from her seat with shriek fled back unhinderd till she came into the vales of har \n"
          ]
        }
      ]
    },
    {
      "cell_type": "code",
      "source": [
        "# book_text = book_text[:5000]  # limit text to 5000, just for this exercise"
      ],
      "metadata": {
        "id": "dsq7WU_cuFhQ"
      },
      "execution_count": 11,
      "outputs": []
    },
    {
      "cell_type": "code",
      "source": [
        "len(book_text)"
      ],
      "metadata": {
        "colab": {
          "base_uri": "https://localhost:8080/"
        },
        "id": "NO-MesMHu3sG",
        "outputId": "2c7fbead-717c-4fb0-a728-aa72ef969a57"
      },
      "execution_count": 17,
      "outputs": [
        {
          "output_type": "execute_result",
          "data": {
            "text/plain": [
              "34028"
            ]
          },
          "metadata": {},
          "execution_count": 17
        }
      ]
    },
    {
      "cell_type": "code",
      "source": [
        "# convert words to numbers\n",
        "from nltk.tokenize import word_tokenize\n",
        "nltk.download('punkt')\n",
        "book_text_words = (word_tokenize(book_text))\n",
        "n_words = len(book_text_words)\n",
        "unique_words = len(set(book_text_words))\n"
      ],
      "metadata": {
        "colab": {
          "base_uri": "https://localhost:8080/"
        },
        "id": "4H4B5l7Vui1q",
        "outputId": "38847900-728d-4b7d-dae1-005592b674fa"
      },
      "execution_count": 16,
      "outputs": [
        {
          "output_type": "stream",
          "name": "stderr",
          "text": [
            "[nltk_data] Downloading package punkt to /root/nltk_data...\n",
            "[nltk_data]   Unzipping tokenizers/punkt.zip.\n"
          ]
        }
      ]
    },
    {
      "cell_type": "code",
      "source": [
        "len(book_text_words)"
      ],
      "metadata": {
        "colab": {
          "base_uri": "https://localhost:8080/"
        },
        "id": "83t4AvaSu9mW",
        "outputId": "9ca1b067-2006-40cf-90bb-2291fb0cddf8"
      },
      "execution_count": 20,
      "outputs": [
        {
          "output_type": "execute_result",
          "data": {
            "text/plain": [
              "6590"
            ]
          },
          "metadata": {},
          "execution_count": 20
        }
      ]
    },
    {
      "cell_type": "code",
      "source": [
        "print(book_text_words)"
      ],
      "metadata": {
        "colab": {
          "base_uri": "https://localhost:8080/"
        },
        "id": "yB-sa7gPvGKr",
        "outputId": "26676f7f-913d-4164-ae01-de42279c54a5"
      },
      "execution_count": 23,
      "outputs": [
        {
          "output_type": "stream",
          "name": "stdout",
          "text": [
            "['poems', 'by', 'william', 'blake', 'songs', 'of', 'innocence', 'and', 'of', 'experience', 'and', 'the', 'book', 'of', 'thel', 'songs', 'of', 'innocence', 'introduction', 'piping', 'down', 'the', 'valleys', 'wild', 'piping', 'songs', 'of', 'pleasant', 'glee', 'on', 'cloud', 'saw', 'child', 'and', 'he', 'laughing', 'said', 'to', 'me', 'pipe', 'song', 'about', 'lamb', 'so', 'piped', 'with', 'merry', 'cheer', 'piper', 'pipe', 'that', 'song', 'again', 'so', 'piped', 'he', 'wept', 'to', 'hear', 'drop', 'thy', 'pipe', 'thy', 'happy', 'pipe', 'sing', 'thy', 'songs', 'of', 'happy', 'cheer', 'so', 'sang', 'the', 'same', 'again', 'while', 'he', 'wept', 'with', 'joy', 'to', 'hear', 'piper', 'sit', 'thee', 'down', 'and', 'write', 'in', 'book', 'that', 'all', 'may', 'read', 'so', 'he', 'vanish', 'from', 'my', 'sight', 'and', 'pluck', 'a', 'hollow', 'reed', 'and', 'made', 'rural', 'pen', 'and', 'stain', 'the', 'water', 'clear', 'and', 'wrote', 'my', 'happy', 'songs', 'every', 'child', 'may', 'joy', 'to', 'hear', 'the', 'shepherd', 'how', 'sweet', 'is', 'the', 'shepherd', 'sweet', 'lot', 'from', 'the', 'morn', 'to', 'the', 'evening', 'he', 'stays', 'he', 'shall', 'follow', 'his', 'sheep', 'all', 'the', 'day', 'and', 'his', 'tongue', 'shall', 'be', 'filled', 'with', 'praise', 'for', 'he', 'hears', 'the', 'lambs', 'innocent', 'call', 'and', 'he', 'hears', 'the', 'ewes', 'tender', 'reply', 'he', 'is', 'watching', 'while', 'they', 'are', 'in', 'peace', 'for', 'they', 'know', 'when', 'their', 'shepherd', 'is', 'nigh', 'the', 'echoing', 'green', 'the', 'sun', 'does', 'arise', 'and', 'make', 'happy', 'the', 'skies', 'the', 'merry', 'bells', 'ring', 'to', 'welcome', 'the', 'spring', 'the', 'skylark', 'and', 'thrush', 'the', 'birds', 'of', 'the', 'bush', 'sing', 'louder', 'around', 'to', 'the', 'bells', 'cheerful', 'sound', 'while', 'our', 'sports', 'shall', 'be', 'seen', 'on', 'the', 'echoing', 'green', 'old', 'john', 'with', 'white', 'hair', 'does', 'laugh', 'away', 'care', 'sitting', 'under', 'the', 'oak', 'among', 'the', 'old', 'folk', 'they', 'laugh', 'at', 'our', 'play', 'and', 'soon', 'they', 'all', 'say', 'such', 'such', 'were', 'the', 'joys', 'when', 'we', 'all', 'girls', 'and', 'boys', 'in', 'our', 'youth', 'time', 'were', 'seen', 'on', 'the', 'echoing', 'green', 'till', 'the', 'little', 'ones', 'weary', 'no', 'more', 'can', 'be', 'merry', 'the', 'sun', 'does', 'descend', 'and', 'our', 'sports', 'have', 'an', 'end', 'round', 'the', 'laps', 'of', 'their', 'mothers', 'many', 'sisters', 'and', 'brothers', 'like', 'birds', 'in', 'their', 'nest', 'are', 'ready', 'for', 'rest', 'and', 'sport', 'no', 'more', 'seen', 'on', 'the', 'darkening', 'green', 'the', 'lamb', 'little', 'lamb', 'who', 'make', 'thee', 'dost', 'thou', 'know', 'who', 'made', 'thee', 'gave', 'thee', 'life', 'and', 'bid', 'thee', 'feed', 'by', 'the', 'stream', 'and', 'er', 'the', 'mead', 'gave', 'thee', 'clothing', 'of', 'delight', 'softest', 'clothing', 'wolly', 'bright', 'gave', 'thee', 'such', 'tender', 'voice', 'making', 'all', 'the', 'vales', 'rejoice', 'little', 'lamb', 'who', 'made', 'thee', 'dost', 'thou', 'know', 'who', 'made', 'thee', 'little', 'lamb', 'll', 'tell', 'thee', 'little', 'lamb', 'll', 'tell', 'thee', 'he', 'is', 'called', 'by', 'thy', 'name', 'for', 'he', 'calls', 'himself', 'lamb', 'he', 'is', 'meek', 'and', 'he', 'is', 'mild', 'he', 'became', 'little', 'child', 'a', 'child', 'and', 'thou', 'lamb', 'we', 'are', 'called', 'by', 'his', 'name', 'little', 'lamb', 'god', 'bless', 'thee', 'little', 'lamb', 'god', 'bless', 'thee', 'the', 'little', 'black', 'boy', 'my', 'mother', 'bore', 'me', 'in', 'the', 'southern', 'wild', 'and', 'am', 'black', 'but', 'oh', 'my', 'soul', 'is', 'white', 'white', 'as', 'an', 'angel', 'is', 'the', 'english', 'child', 'but', 'am', 'black', 'as', 'if', 'bereaved', 'of', 'light', 'my', 'mother', 'taught', 'me', 'underneath', 'tree', 'and', 'sitting', 'down', 'before', 'the', 'heat', 'of', 'day', 'she', 'took', 'me', 'on', 'her', 'lap', 'and', 'kissed', 'me', 'and', 'pointed', 'to', 'the', 'east', 'began', 'to', 'say', 'look', 'on', 'the', 'rising', 'sun', 'there', 'god', 'does', 'live', 'and', 'gives', 'his', 'light', 'and', 'gives', 'his', 'heat', 'away', 'and', 'flowers', 'and', 'trees', 'and', 'beasts', 'and', 'men', 'receive', 'comfort', 'in', 'morning', 'joy', 'in', 'the', 'noonday', 'and', 'we', 'are', 'put', 'on', 'earth', 'little', 'space', 'that', 'we', 'may', 'learn', 'to', 'bear', 'the', 'beams', 'of', 'love', 'and', 'these', 'black', 'bodies', 'and', 'this', 'sunburnt', 'face', 'is', 'but', 'cloud', 'and', 'like', 'shady', 'grove', 'for', 'when', 'our', 'souls', 'have', 'learn', 'the', 'heat', 'to', 'bear', 'the', 'cloud', 'will', 'vanish', 'we', 'shall', 'hear', 'his', 'voice', 'saying', 'come', 'out', 'from', 'the', 'grove', 'my', 'love', 'and', 'care', 'and', 'round', 'my', 'golden', 'tent', 'like', 'lambs', 'rejoice', 'thus', 'did', 'my', 'mother', 'say', 'and', 'kissed', 'me', 'and', 'thus', 'say', 'to', 'little', 'english', 'boy', 'when', 'from', 'black', 'and', 'he', 'from', 'white', 'cloud', 'free', 'and', 'round', 'the', 'tent', 'of', 'god', 'like', 'lambs', 'we', 'joy', 'll', 'shade', 'him', 'from', 'the', 'heat', 'till', 'he', 'can', 'bear', 'to', 'lean', 'in', 'joy', 'upon', 'our', 'father', 'knee', 'and', 'then', 'll', 'stand', 'and', 'stroke', 'his', 'silver', 'hair', 'and', 'be', 'like', 'him', 'and', 'he', 'will', 'then', 'love', 'me', 'the', 'blossom', 'merry', 'merry', 'sparrow', 'under', 'leaves', 'so', 'green', 'happy', 'blossom', 'sees', 'you', 'swift', 'as', 'arrow', 'seek', 'your', 'cradle', 'narrow', 'near', 'my', 'bosom', 'pretty', 'pretty', 'robin', 'under', 'leaves', 'so', 'green', 'happy', 'blossom', 'hears', 'you', 'sobbing', 'sobbing', 'pretty', 'pretty', 'robin', 'near', 'my', 'bosom', 'the', 'chimney', 'sweeper', 'when', 'my', 'mother', 'died', 'was', 'very', 'young', 'and', 'my', 'father', 'sold', 'me', 'while', 'yet', 'my', 'tongue', 'could', 'scarcely', 'cry', 'weep', 'weep', 'weep', 'weep', 'so', 'your', 'chimneys', 'sweep', 'and', 'in', 'soot', 'sleep', 'there', 'little', 'tom', 'dacre', 'who', 'cried', 'when', 'his', 'head', 'that', 'curled', 'like', 'lamb', 'back', 'was', 'shaved', 'so', 'said', 'hush', 'tom', 'never', 'mind', 'it', 'for', 'when', 'your', 'head', 'bare', 'you', 'know', 'that', 'the', 'soot', 'can', 'not', 'spoil', 'your', 'white', 'hair', 'and', 'so', 'he', 'was', 'quiet', 'and', 'that', 'very', 'night', 'as', 'tom', 'was', 'sleeping', 'he', 'had', 'such', 'sight', 'that', 'thousands', 'of', 'sweepers', 'dick', 'joe', 'ned', 'and', 'jack', 'were', 'all', 'of', 'them', 'locked', 'up', 'in', 'coffins', 'of', 'black', 'and', 'by', 'came', 'an', 'angel', 'who', 'had', 'bright', 'key', 'and', 'he', 'opened', 'the', 'coffins', 'and', 'let', 'them', 'all', 'free', 'then', 'down', 'green', 'plain', 'leaping', 'laughing', 'they', 'run', 'and', 'wash', 'in', 'river', 'and', 'shine', 'in', 'the', 'sun', 'then', 'naked', 'and', 'white', 'all', 'their', 'bags', 'left', 'behind', 'they', 'rise', 'upon', 'clouds', 'and', 'sport', 'in', 'the', 'wind', 'and', 'the', 'angel', 'told', 'tom', 'if', 'he', 'be', 'good', 'boy', 'he', 'have', 'god', 'for', 'his', 'father', 'and', 'never', 'want', 'joy', 'and', 'so', 'tom', 'awoke', 'and', 'we', 'rose', 'in', 'the', 'dark', 'and', 'got', 'with', 'our', 'bags', 'and', 'our', 'brushes', 'to', 'work', 'though', 'the', 'morning', 'was', 'cold', 'tom', 'was', 'happy', 'and', 'warm', 'so', 'if', 'all', 'do', 'their', 'duty', 'they', 'need', 'not', 'fear', 'harm', 'the', 'little', 'boy', 'lost', 'father', 'father', 'where', 'are', 'you', 'going', 'oh', 'do', 'not', 'walk', 'so', 'fast', 'speak', 'father', 'speak', 'to', 'you', 'little', 'boy', 'or', 'else', 'shall', 'be', 'lost', 'the', 'night', 'was', 'dark', 'no', 'father', 'was', 'there', 'the', 'child', 'was', 'wet', 'with', 'dew', 'the', 'mire', 'was', 'deep', 'and', 'the', 'child', 'did', 'weep', 'and', 'away', 'the', 'vapour', 'flew', 'the', 'little', 'boy', 'found', 'the', 'little', 'boy', 'lost', 'in', 'the', 'lonely', 'fen', 'led', 'by', 'the', 'wandering', 'light', 'began', 'to', 'cry', 'but', 'god', 'ever', 'nigh', 'appeared', 'like', 'his', 'father', 'in', 'white', 'he', 'kissed', 'the', 'child', 'and', 'by', 'the', 'hand', 'led', 'and', 'to', 'his', 'mother', 'brought', 'who', 'in', 'sorrow', 'pale', 'through', 'the', 'lonely', 'dale', 'the', 'little', 'boy', 'weeping', 'sought', 'laughing', 'song', 'when', 'the', 'green', 'woods', 'laugh', 'with', 'the', 'voice', 'of', 'joy', 'and', 'the', 'dimpling', 'stream', 'runs', 'laughing', 'by', 'when', 'the', 'air', 'does', 'laugh', 'with', 'our', 'merry', 'wit', 'and', 'the', 'green', 'hill', 'laughs', 'with', 'the', 'noise', 'of', 'it', 'when', 'the', 'meadows', 'laugh', 'with', 'lively', 'green', 'and', 'the', 'grasshopper', 'laughs', 'in', 'the', 'merry', 'scene', 'when', 'mary', 'and', 'susan', 'and', 'emily', 'with', 'their', 'sweet', 'round', 'mouths', 'sing', 'ha', 'ha', 'he', 'when', 'the', 'painted', 'birds', 'laugh', 'in', 'the', 'shade', 'where', 'our', 'table', 'with', 'cherries', 'and', 'nuts', 'is', 'spread', 'come', 'live', 'and', 'be', 'merry', 'and', 'join', 'with', 'me', 'to', 'sing', 'the', 'sweet', 'chorus', 'of', 'ha', 'ha', 'he', 'song', 'sweet', 'dreams', 'form', 'shade', 'er', 'my', 'lovely', 'infant', 'head', 'sweet', 'dreams', 'of', 'pleasant', 'streams', 'by', 'happy', 'silent', 'moony', 'beams', 'sweet', 'sleep', 'with', 'soft', 'down', 'weave', 'thy', 'brows', 'an', 'infant', 'crown', 'sweet', 'sleep', 'angel', 'mild', 'hover', 'er', 'my', 'happy', 'child', 'sweet', 'smiles', 'in', 'the', 'night', 'hover', 'over', 'my', 'delight', 'sweet', 'smiles', 'mother', 'smile', 'all', 'the', 'livelong', 'night', 'beguile', 'sweet', 'moans', 'dovelike', 'sighs', 'chase', 'not', 'slumber', 'from', 'thine', 'eyes', 'sweet', 'moan', 'sweeter', 'smile', 'all', 'the', 'dovelike', 'moans', 'beguile', 'sleep', 'sleep', 'happy', 'child', 'all', 'creation', 'slept', 'and', 'smiled', 'sleep', 'sleep', 'happy', 'sleep', 'while', 'er', 'thee', 'doth', 'mother', 'weep', 'sweet', 'babe', 'in', 'thy', 'face', 'holy', 'image', 'can', 'trace', 'sweet', 'babe', 'once', 'like', 'thee', 'thy', 'maker', 'lay', 'and', 'wept', 'for', 'me', 'wept', 'for', 'me', 'for', 'thee', 'for', 'all', 'when', 'he', 'was', 'an', 'infant', 'small', 'thou', 'his', 'image', 'ever', 'see', 'heavenly', 'face', 'that', 'smiles', 'on', 'thee', 'smiles', 'on', 'thee', 'on', 'me', 'on', 'all', 'who', 'became', 'an', 'infant', 'small', 'infant', 'smiles', 'are', 'his', 'own', 'smiles', 'heaven', 'and', 'earth', 'to', 'peace', 'beguiles', 'divine', 'image', 'to', 'mercy', 'pity', 'peace', 'and', 'love', 'all', 'pray', 'in', 'their', 'distress', 'and', 'to', 'these', 'virtues', 'of', 'delight', 'return', 'their', 'thankfulness', 'for', 'mercy', 'pity', 'peace', 'and', 'love', 'is', 'god', 'our', 'father', 'dear', 'and', 'mercy', 'pity', 'peace', 'and', 'love', 'is', 'man', 'his', 'child', 'and', 'care', 'for', 'mercy', 'has', 'human', 'heart', 'pity', 'human', 'face', 'and', 'love', 'the', 'human', 'form', 'divine', 'and', 'peace', 'the', 'human', 'dress', 'then', 'every', 'man', 'of', 'every', 'clime', 'that', 'prays', 'in', 'his', 'distress', 'prays', 'to', 'the', 'human', 'form', 'divine', 'love', 'mercy', 'pity', 'peace', 'and', 'all', 'must', 'love', 'the', 'human', 'form', 'in', 'heathen', 'turk', 'or', 'jew', 'where', 'mercy', 'love', 'and', 'pity', 'dwell', 'there', 'god', 'is', 'dwelling', 'too', 'holy', 'thursday', 'twas', 'on', 'holy', 'thursday', 'their', 'innocent', 'faces', 'clean', 'came', 'children', 'walking', 'two', 'and', 'two', 'in', 'read', 'and', 'blue', 'and', 'green', 'grey', 'headed', 'beadles', 'walked', 'before', 'with', 'wands', 'as', 'white', 'as', 'snow', 'till', 'into', 'the', 'high', 'dome', 'of', 'paul', 'they', 'like', 'thames', 'waters', 'flow', 'oh', 'what', 'multitude', 'they', 'seemed', 'these', 'flowers', 'of', 'london', 'town', 'seated', 'in', 'companies', 'they', 'sit', 'with', 'radiance', 'all', 'their', 'own', 'the', 'hum', 'of', 'multitudes', 'was', 'there', 'but', 'multitudes', 'of', 'lambs', 'thousands', 'of', 'little', 'boys', 'and', 'girls', 'raising', 'their', 'innocent', 'hands', 'now', 'like', 'mighty', 'wild', 'they', 'raise', 'to', 'heaven', 'the', 'voice', 'of', 'song', 'or', 'like', 'harmonious', 'thunderings', 'the', 'seats', 'of', 'heaven', 'among', 'beneath', 'them', 'sit', 'the', 'aged', 'man', 'wise', 'guardians', 'of', 'the', 'poor', 'then', 'cherish', 'pity', 'lest', 'you', 'drive', 'an', 'angel', 'from', 'your', 'door', 'night', 'the', 'sun', 'descending', 'in', 'the', 'west', 'the', 'evening', 'star', 'does', 'shine', 'the', 'birds', 'are', 'silent', 'in', 'their', 'nest', 'and', 'must', 'seek', 'for', 'mine', 'the', 'moon', 'like', 'flower', 'in', 'heaven', 'high', 'bower', 'with', 'silent', 'delight', 'sits', 'and', 'smiles', 'on', 'the', 'night', 'farewell', 'green', 'fields', 'and', 'happy', 'grove', 'where', 'flocks', 'have', 'ta', 'en', 'delight', 'where', 'lambs', 'have', 'nibbled', 'silent', 'move', 'the', 'feet', 'of', 'angels', 'bright', 'unseen', 'they', 'pour', 'blessing', 'and', 'joy', 'without', 'ceasing', 'on', 'each', 'bud', 'and', 'blossom', 'and', 'each', 'sleeping', 'bosom', 'they', 'look', 'in', 'every', 'thoughtless', 'nest', 'where', 'birds', 'are', 'covered', 'warm', 'they', 'visit', 'caves', 'of', 'every', 'beast', 'to', 'keep', 'them', 'all', 'from', 'harm', 'if', 'they', 'see', 'any', 'weeping', 'that', 'should', 'have', 'been', 'sleeping', 'they', 'pour', 'sleep', 'on', 'their', 'head', 'and', 'sit', 'down', 'by', 'their', 'bed', 'when', 'wolves', 'and', 'tigers', 'howl', 'for', 'prey', 'they', 'pitying', 'stand', 'and', 'weep', 'seeking', 'to', 'drive', 'their', 'thirst', 'away', 'and', 'keep', 'them', 'from', 'the', 'sheep', 'but', 'if', 'they', 'rush', 'dreadful', 'the', 'angels', 'most', 'heedful', 'receive', 'each', 'mild', 'spirit', 'new', 'worlds', 'to', 'inherit', 'and', 'there', 'the', 'lion', 'ruddy', 'eyes', 'shall', 'flow', 'with', 'tears', 'of', 'gold', 'and', 'pitying', 'the', 'tender', 'cries', 'and', 'walking', 'round', 'the', 'fold', 'saying', 'wrath', 'by', 'his', 'meekness', 'and', 'by', 'his', 'health', 'sickness', 'are', 'driven', 'away', 'from', 'our', 'immortal', 'day', 'and', 'now', 'beside', 'thee', 'bleating', 'lamb', 'can', 'lie', 'down', 'and', 'sleep', 'or', 'think', 'on', 'him', 'who', 'bore', 'thy', 'name', 'graze', 'after', 'thee', 'and', 'weep', 'for', 'washed', 'in', 'life', 'river', 'my', 'bright', 'mane', 'for', 'ever', 'shall', 'shine', 'like', 'the', 'gold', 'as', 'guard', 'er', 'the', 'fold', 'spring', 'sound', 'the', 'flute', 'now', 'it', 'mute', 'bird', 'delight', 'day', 'and', 'night', 'nightingale', 'in', 'the', 'dale', 'lark', 'in', 'sky', 'merrily', 'merrily', 'merrily', 'to', 'welcome', 'in', 'the', 'year', 'little', 'boy', 'full', 'of', 'joy', 'little', 'girl', 'sweet', 'and', 'small', 'cock', 'does', 'crow', 'so', 'do', 'you', 'merry', 'voice', 'infant', 'noise', 'merrily', 'merrily', 'to', 'welcome', 'in', 'the', 'year', 'little', 'lamb', 'here', 'am', 'come', 'and', 'lick', 'my', 'white', 'neck', 'let', 'me', 'pull', 'your', 'soft', 'wool', 'let', 'me', 'kiss', 'your', 'soft', 'face', 'merrily', 'merrily', 'to', 'welcome', 'in', 'the', 'year', 'nurse', 'song', 'when', 'the', 'voices', 'of', 'children', 'are', 'heard', 'on', 'the', 'green', 'and', 'laughing', 'is', 'heard', 'on', 'the', 'hill', 'my', 'heart', 'is', 'at', 'rest', 'within', 'my', 'breast', 'and', 'everything', 'else', 'is', 'still', 'then', 'come', 'home', 'my', 'children', 'the', 'sun', 'is', 'gone', 'down', 'and', 'the', 'dews', 'of', 'night', 'arise', 'come', 'come', 'leave', 'off', 'play', 'and', 'let', 'us', 'away', 'till', 'the', 'morning', 'appears', 'in', 'the', 'skies', 'no', 'no', 'let', 'us', 'play', 'for', 'it', 'is', 'yet', 'day', 'and', 'we', 'can', 'not', 'go', 'to', 'sleep', 'besides', 'in', 'the', 'sky', 'the', 'little', 'birds', 'fly', 'and', 'the', 'hills', 'are', 'all', 'covered', 'with', 'sheep', 'well', 'well', 'go', 'and', 'play', 'till', 'the', 'light', 'fades', 'away', 'and', 'then', 'go', 'home', 'to', 'bed', 'the', 'little', 'ones', 'leaped', 'and', 'shouted', 'and', 'laughed', 'and', 'all', 'the', 'hills', 'echoed', 'infant', 'joy', 'have', 'no', 'name', 'am', 'but', 'two', 'days', 'old', 'what', 'shall', 'call', 'thee', 'happy', 'am', 'joy', 'is', 'my', 'name', 'sweet', 'joy', 'befall', 'thee', 'pretty', 'joy', 'sweet', 'joy', 'but', 'two', 'days', 'old', 'sweet', 'joy', 'call', 'thee', 'thou', 'dost', 'smile', 'sing', 'the', 'while', 'sweet', 'joy', 'befall', 'thee', 'dream', 'once', 'dream', 'did', 'weave', 'shade', 'er', 'my', 'angel', 'guarded', 'bed', 'that', 'an', 'emmet', 'lost', 'its', 'way', 'where', 'on', 'grass', 'methought', 'lay', 'troubled', 'wildered', 'and', 'forlorn', 'dark', 'benighted', 'travel', 'worn', 'over', 'many', 'tangle', 'spray', 'all', 'heart', 'broke', 'heard', 'her', 'say', 'oh', 'my', 'children', 'do', 'they', 'cry', 'do', 'they', 'hear', 'their', 'father', 'sigh', 'now', 'they', 'look', 'abroad', 'to', 'see', 'now', 'return', 'and', 'weep', 'for', 'me', 'pitying', 'dropped', 'tear', 'but', 'saw', 'glow', 'worm', 'near', 'who', 'replied', 'what', 'wailing', 'wight', 'calls', 'the', 'watchman', 'of', 'the', 'night', 'am', 'set', 'to', 'light', 'the', 'ground', 'while', 'the', 'beetle', 'goes', 'his', 'round', 'follow', 'now', 'the', 'beetle', 'hum', 'little', 'wanderer', 'hie', 'thee', 'home', 'on', 'another', 'sorrow', 'can', 'see', 'another', 'woe', 'and', 'not', 'be', 'in', 'sorrow', 'too', 'can', 'see', 'another', 'grief', 'and', 'not', 'seek', 'for', 'kind', 'relief', 'can', 'see', 'falling', 'tear', 'and', 'not', 'feel', 'my', 'sorrow', 'share', 'can', 'father', 'see', 'his', 'child', 'weep', 'nor', 'be', 'with', 'sorrow', 'filled', 'can', 'mother', 'sit', 'and', 'hear', 'an', 'infant', 'groan', 'an', 'infant', 'fear', 'no', 'no', 'never', 'can', 'it', 'be', 'never', 'never', 'can', 'it', 'be', 'and', 'can', 'he', 'who', 'smiles', 'on', 'all', 'hear', 'the', 'wren', 'with', 'sorrows', 'small', 'hear', 'the', 'small', 'bird', 'grief', 'and', 'care', 'hear', 'the', 'woes', 'that', 'infants', 'bear', 'and', 'not', 'sit', 'beside', 'the', 'next', 'pouring', 'pity', 'in', 'their', 'breast', 'and', 'not', 'sit', 'the', 'cradle', 'near', 'weeping', 'tear', 'on', 'infant', 'tear', 'and', 'not', 'sit', 'both', 'night', 'and', 'day', 'wiping', 'all', 'our', 'tears', 'away', 'oh', 'no', 'never', 'can', 'it', 'be', 'never', 'never', 'can', 'it', 'be', 'he', 'doth', 'give', 'his', 'joy', 'to', 'all', 'he', 'becomes', 'an', 'infant', 'small', 'he', 'becomes', 'man', 'of', 'woe', 'he', 'doth', 'feel', 'the', 'sorrow', 'too', 'think', 'not', 'thou', 'canst', 'sigh', 'sigh', 'and', 'thy', 'maker', 'is', 'not', 'by', 'think', 'not', 'thou', 'canst', 'weep', 'tear', 'and', 'thy', 'maker', 'is', 'not', 'year', 'oh', 'he', 'gives', 'to', 'us', 'his', 'joy', 'that', 'our', 'grief', 'he', 'may', 'destroy', 'till', 'our', 'grief', 'is', 'fled', 'an', 'gone', 'he', 'doth', 'sit', 'by', 'us', 'and', 'moan', 'songs', 'of', 'experience', 'introduction', 'hear', 'the', 'voice', 'of', 'the', 'bard', 'who', 'present', 'past', 'and', 'future', 'sees', 'whose', 'ears', 'have', 'heard', 'the', 'holy', 'word', 'that', 'walked', 'among', 'the', 'ancient', 'tree', 'calling', 'the', 'lapsed', 'soul', 'and', 'weeping', 'in', 'the', 'evening', 'dew', 'that', 'might', 'control', 'the', 'starry', 'pole', 'and', 'fallen', 'fallen', 'light', 'renew', 'earth', 'earth', 'return', 'arise', 'from', 'out', 'the', 'dewy', 'grass', 'night', 'is', 'worn', 'and', 'the', 'morn', 'rises', 'from', 'the', 'slumbrous', 'mass', 'turn', 'away', 'no', 'more', 'why', 'wilt', 'thou', 'turn', 'away', 'the', 'starry', 'floor', 'the', 'watery', 'shore', 'are', 'given', 'thee', 'till', 'the', 'break', 'of', 'day', 'earth', 'answer', 'earth', 'raised', 'up', 'her', 'head', 'from', 'the', 'darkness', 'dread', 'and', 'drear', 'her', 'light', 'fled', 'stony', 'dread', 'and', 'her', 'locks', 'covered', 'with', 'grey', 'despair', 'prisoned', 'on', 'watery', 'shore', 'starry', 'jealousy', 'does', 'keep', 'my', 'den', 'cold', 'and', 'hoar', 'weeping', 're', 'hear', 'the', 'father', 'of', 'the', 'ancient', 'men', 'selfish', 'father', 'of', 'men', 'cruel', 'jealous', 'selfish', 'fear', 'can', 'delight', 'chained', 'in', 'night', 'the', 'virgins', 'of', 'youth', 'and', 'morning', 'bear', 'does', 'spring', 'hide', 'its', 'joy', 'when', 'buds', 'and', 'blossoms', 'grow', 'does', 'the', 'sower', 'sow', 'by', 'night', 'or', 'the', 'plowman', 'in', 'darkness', 'plough', 'break', 'this', 'heavy', 'chain', 'that', 'does', 'freeze', 'my', 'bones', 'around', 'selfish', 'vain', 'eternal', 'bane', 'that', 'free', 'love', 'with', 'bondage', 'bound', 'the', 'clod', 'and', 'the', 'pebble', 'love', 'seeketh', 'not', 'itself', 'to', 'please', 'nor', 'for', 'itself', 'hath', 'any', 'care', 'but', 'for', 'another', 'gives', 'it', 'ease', 'and', 'builds', 'heaven', 'in', 'hell', 'despair', 'so', 'sang', 'little', 'clod', 'of', 'clay', 'trodden', 'with', 'the', 'cattle', 'feet', 'but', 'pebble', 'of', 'the', 'brook', 'warbled', 'out', 'these', 'metres', 'meet', 'love', 'seeketh', 'only', 'self', 'to', 'please', 'to', 'bind', 'another', 'to', 'its', 'delight', 'joys', 'in', 'another', 'loss', 'of', 'ease', 'and', 'builds', 'hell', 'in', 'heaven', 'despite', 'holy', 'thursday', 'is', 'this', 'holy', 'thing', 'to', 'see', 'in', 'rich', 'and', 'fruitful', 'land', 'babes', 'reduced', 'to', 'misery', 'fed', 'with', 'cold', 'and', 'usurous', 'hand', 'is', 'that', 'trembling', 'cry', 'song', 'can', 'it', 'be', 'song', 'of', 'joy', 'and', 'so', 'many', 'children', 'poor', 'it', 'is', 'land', 'of', 'poverty', 'and', 'their', 'son', 'does', 'never', 'shine', 'and', 'their', 'fields', 'are', 'bleak', 'and', 'bare', 'and', 'their', 'ways', 'are', 'filled', 'with', 'thorns', 'it', 'is', 'eternal', 'winter', 'there', 'for', 'where', 'er', 'the', 'sun', 'does', 'shine', 'and', 'where', 'er', 'the', 'rain', 'does', 'fall', 'babes', 'should', 'never', 'hunger', 'there', 'nor', 'poverty', 'the', 'mind', 'appall', 'the', 'little', 'girl', 'lost', 'in', 'futurity', 'prophetic', 'see', 'that', 'the', 'earth', 'from', 'sleep', 'grave', 'the', 'sentence', 'deep', 'shall', 'arise', 'and', 'seek', 'for', 'her', 'maker', 'meek', 'and', 'the', 'desert', 'wild', 'become', 'garden', 'mild', 'in', 'the', 'southern', 'clime', 'where', 'the', 'summer', 'prime', 'never', 'fades', 'away', 'lovely', 'lyca', 'lay', 'seven', 'summers', 'old', 'lovely', 'lyca', 'told', 'she', 'had', 'wandered', 'long', 'hearing', 'wild', 'birds', 'song', 'sweet', 'sleep', 'come', 'to', 'me', 'underneath', 'this', 'tree', 'do', 'father', 'mother', 'weep', 'where', 'can', 'lyca', 'sleep', 'lost', 'in', 'desert', 'wild', 'is', 'your', 'little', 'child', 'how', 'can', 'lyca', 'sleep', 'if', 'her', 'mother', 'weep', 'if', 'her', 'heart', 'does', 'ache', 'then', 'let', 'lyca', 'wake', 'if', 'my', 'mother', 'sleep', 'lyca', 'shall', 'not', 'weep', 'frowning', 'frowning', 'night', 'er', 'this', 'desert', 'bright', 'let', 'thy', 'moon', 'arise', 'while', 'close', 'my', 'eyes', 'sleeping', 'lyca', 'lay', 'while', 'the', 'beasts', 'of', 'prey', 'come', 'from', 'caverns', 'deep', 'viewed', 'the', 'maid', 'asleep', 'the', 'kingly', 'lion', 'stood', 'and', 'the', 'virgin', 'viewed', 'then', 'he', 'gambolled', 'round', 'er', 'the', 'hallowed', 'ground', 'leopards', 'tigers', 'play', 'round', 'her', 'as', 'she', 'lay', 'while', 'the', 'lion', 'old', 'bowed', 'his', 'mane', 'of', 'gold', 'and', 'her', 'breast', 'did', 'lick', 'and', 'upon', 'her', 'neck', 'from', 'his', 'eyes', 'of', 'flame', 'ruby', 'tears', 'there', 'came', 'while', 'the', 'lioness', 'loosed', 'her', 'slender', 'dress', 'and', 'naked', 'they', 'conveyed', 'to', 'caves', 'the', 'sleeping', 'maid', 'the', 'little', 'girl', 'found', 'all', 'the', 'night', 'in', 'woe', 'lyca', 'parents', 'go', 'over', 'valleys', 'deep', 'while', 'the', 'deserts', 'weep', 'tired', 'and', 'woe', 'begone', 'hoarse', 'with', 'making', 'moan', 'arm', 'in', 'arm', 'seven', 'days', 'they', 'traced', 'the', 'desert', 'ways', 'seven', 'nights', 'they', 'sleep', 'among', 'shadows', 'deep', 'and', 'dream', 'they', 'see', 'their', 'child', 'starved', 'in', 'desert', 'wild', 'pale', 'through', 'pathless', 'ways', 'the', 'fancied', 'image', 'strays', 'famished', 'weeping', 'weak', 'with', 'hollow', 'piteous', 'shriek', 'rising', 'from', 'unrest', 'the', 'trembling', 'woman', 'presse', 'with', 'feet', 'of', 'weary', 'woe', 'she', 'could', 'no', 'further', 'go', 'in', 'his', 'arms', 'he', 'bore', 'her', 'armed', 'with', 'sorrow', 'sore', 'till', 'before', 'their', 'way', 'couching', 'lion', 'lay', 'turning', 'back', 'was', 'vain', 'soon', 'his', 'heavy', 'mane', 'bore', 'them', 'to', 'the', 'ground', 'then', 'he', 'stalked', 'around', 'smelling', 'to', 'his', 'prey', 'but', 'their', 'fears', 'allay', 'when', 'he', 'licks', 'their', 'hands', 'and', 'silent', 'by', 'them', 'stands', 'they', 'look', 'upon', 'his', 'eyes', 'filled', 'with', 'deep', 'surprise', 'and', 'wondering', 'behold', 'spirit', 'armed', 'in', 'gold', 'on', 'his', 'head', 'crown', 'on', 'his', 'shoulders', 'down', 'flowed', 'his', 'golden', 'hair', 'gone', 'was', 'all', 'their', 'care', 'follow', 'me', 'he', 'said', 'weep', 'not', 'for', 'the', 'maid', 'in', 'my', 'palace', 'deep', 'lyca', 'lies', 'asleep', 'then', 'they', 'followed', 'where', 'the', 'vision', 'led', 'and', 'saw', 'their', 'sleeping', 'child', 'among', 'tigers', 'wild', 'to', 'this', 'day', 'they', 'dwell', 'in', 'lonely', 'dell', 'nor', 'fear', 'the', 'wolvish', 'howl', 'nor', 'the', 'lion', 'growl', 'the', 'chimney', 'sweeper', 'little', 'black', 'thing', 'in', 'the', 'snow', 'crying', 'weep', 'weep', 'in', 'notes', 'of', 'woe', 'where', 'are', 'thy', 'father', 'and', 'mother', 'say', 'they', 'are', 'both', 'gone', 'up', 'to', 'the', 'church', 'to', 'pray', 'because', 'was', 'happy', 'upon', 'the', 'heath', 'and', 'smiled', 'among', 'the', 'winter', 'snow', 'they', 'clothed', 'me', 'in', 'the', 'clothes', 'of', 'death', 'and', 'taught', 'me', 'to', 'sing', 'the', 'notes', 'of', 'woe', 'and', 'because', 'am', 'happy', 'and', 'dance', 'and', 'sing', 'they', 'think', 'they', 'have', 'done', 'me', 'no', 'injury', 'and', 'are', 'gone', 'to', 'praise', 'god', 'and', 'his', 'priest', 'and', 'king', 'who', 'make', 'up', 'heaven', 'of', 'our', 'misery', 'nurse', 'song', 'when', 'voices', 'of', 'children', 'are', 'heard', 'on', 'the', 'green', 'and', 'whisperings', 'are', 'in', 'the', 'dale', 'the', 'days', 'of', 'my', 'youth', 'rise', 'fresh', 'in', 'my', 'mind', 'my', 'face', 'turns', 'green', 'and', 'pale', 'then', 'come', 'home', 'my', 'children', 'the', 'sun', 'is', 'gone', 'down', 'and', 'the', 'dews', 'of', 'night', 'arise', 'your', 'spring', 'and', 'your', 'day', 'are', 'wasted', 'in', 'play', 'and', 'your', 'winter', 'and', 'night', 'in', 'disguise', 'the', 'sick', 'rose', 'rose', 'thou', 'art', 'sick', 'the', 'invisible', 'worm', 'that', 'flies', 'in', 'the', 'night', 'in', 'the', 'howling', 'storm', 'has', 'found', 'out', 'thy', 'bed', 'of', 'crimson', 'joy', 'and', 'his', 'dark', 'secret', 'love', 'does', 'thy', 'life', 'destroy', 'the', 'fly', 'little', 'fly', 'thy', 'summer', 'play', 'my', 'thoughtless', 'hand', 'has', 'brushed', 'away', 'am', 'not', 'a', 'fly', 'like', 'thee', 'or', 'art', 'not', 'thou', 'man', 'like', 'me', 'for', 'dance', 'and', 'drink', 'and', 'sing', 'till', 'some', 'blind', 'hand', 'shall', 'brush', 'my', 'wing', 'if', 'thought', 'is', 'life', 'and', 'strength', 'and', 'breath', 'and', 'the', 'want', 'of', 'thought', 'is', 'death', 'then', 'am', 'a', 'happy', 'fly', 'if', 'live', 'or', 'if', 'die', 'the', 'angel', 'dreamt', 'dream', 'what', 'can', 'it', 'mean', 'and', 'that', 'was', 'maiden', 'queen', 'guarded', 'by', 'an', 'angel', 'mild', 'witless', 'woe', 'was', 'ne', 'er', 'beguiled', 'and', 'wept', 'both', 'night', 'and', 'day', 'and', 'he', 'wiped', 'my', 'tears', 'away', 'and', 'wept', 'both', 'day', 'and', 'night', 'and', 'hid', 'from', 'him', 'my', 'heart', 'delight', 'so', 'he', 'took', 'his', 'wings', 'and', 'fled', 'then', 'the', 'morn', 'blushed', 'rosy', 'red', 'dried', 'my', 'tears', 'and', 'armed', 'my', 'fears', 'with', 'ten', 'thousand', 'shields', 'and', 'spears', 'soon', 'my', 'angel', 'came', 'again', 'was', 'armed', 'he', 'came', 'in', 'vain', 'for', 'the', 'time', 'of', 'youth', 'was', 'fled', 'and', 'grey', 'hairs', 'were', 'on', 'my', 'head', 'the', 'tiger', 'tiger', 'tiger', 'burning', 'bright', 'in', 'the', 'forest', 'of', 'the', 'night', 'what', 'immortal', 'hand', 'or', 'eye', 'could', 'frame', 'thy', 'fearful', 'symmetry', 'in', 'what', 'distant', 'deeps', 'or', 'skies', 'burnt', 'the', 'fire', 'of', 'thine', 'eyes', 'on', 'what', 'wings', 'dare', 'he', 'aspire', 'what', 'the', 'hand', 'dare', 'seize', 'the', 'fire', 'and', 'what', 'shoulder', 'and', 'what', 'art', 'could', 'twist', 'the', 'sinews', 'of', 'thy', 'heart', 'and', 'when', 'thy', 'heart', 'began', 'to', 'beat', 'what', 'dread', 'hand', 'and', 'what', 'dread', 'feet', 'what', 'the', 'hammer', 'what', 'the', 'chain', 'in', 'what', 'furnace', 'was', 'thy', 'brain', 'what', 'the', 'anvil', 'what', 'dread', 'grasp', 'dare', 'its', 'deadly', 'terrors', 'clasp', 'when', 'the', 'stars', 'threw', 'down', 'their', 'spears', 'and', 'watered', 'heaven', 'with', 'their', 'tears', 'did', 'he', 'smile', 'his', 'work', 'to', 'see', 'did', 'he', 'who', 'made', 'the', 'lamb', 'make', 'thee', 'tiger', 'tiger', 'burning', 'bright', 'in', 'the', 'forests', 'of', 'the', 'night', 'what', 'immortal', 'hand', 'or', 'eye', 'dare', 'frame', 'thy', 'fearful', 'symmetry', 'my', 'pretty', 'rose', 'tree', 'flower', 'was', 'offered', 'to', 'me', 'such', 'flower', 'as', 'may', 'never', 'bore', 'but', 'said', 've', 'pretty', 'rose', 'tree', 'and', 'passed', 'the', 'sweet', 'flower', 'er', 'then', 'went', 'to', 'my', 'pretty', 'rose', 'tree', 'to', 'tend', 'her', 'by', 'day', 'and', 'by', 'night', 'but', 'my', 'rose', 'turned', 'away', 'with', 'jealousy', 'and', 'her', 'thorns', 'were', 'my', 'only', 'delight', 'ah', 'sunflower', 'ah', 'sunflower', 'weary', 'of', 'time', 'who', 'countest', 'the', 'steps', 'of', 'the', 'sun', 'seeking', 'after', 'that', 'sweet', 'golden', 'clime', 'where', 'the', 'traveller', 'journey', 'is', 'done', 'where', 'the', 'youth', 'pined', 'away', 'with', 'desire', 'and', 'the', 'pale', 'virgin', 'shrouded', 'in', 'snow', 'arise', 'from', 'their', 'graves', 'and', 'aspire', 'where', 'my', 'sunflower', 'wishes', 'to', 'go', 'the', 'lily', 'the', 'modest', 'rose', 'puts', 'forth', 'thorn', 'the', 'humble', 'sheep', 'threat', 'ning', 'horn', 'while', 'the', 'lily', 'white', 'shall', 'in', 'love', 'delight', 'nor', 'thorn', 'nor', 'threat', 'stain', 'her', 'beauty', 'bright', 'the', 'garden', 'of', 'love', 'laid', 'me', 'down', 'upon', 'bank', 'where', 'love', 'lay', 'sleeping', 'heard', 'among', 'the', 'rushes', 'dank', 'weeping', 'weeping', 'then', 'went', 'to', 'the', 'heath', 'and', 'the', 'wild', 'to', 'the', 'thistles', 'and', 'thorns', 'of', 'the', 'waste', 'and', 'they', 'told', 'me', 'how', 'they', 'were', 'beguiled', 'driven', 'out', 'and', 'compelled', 'to', 'the', 'chaste', 'went', 'to', 'the', 'garden', 'of', 'love', 'and', 'saw', 'what', 'never', 'had', 'seen', 'chapel', 'was', 'built', 'in', 'the', 'midst', 'where', 'used', 'to', 'play', 'on', 'the', 'green', 'and', 'the', 'gates', 'of', 'this', 'chapel', 'were', 'shut', 'and', 'thou', 'shalt', 'not', 'writ', 'over', 'the', 'door', 'so', 'turned', 'to', 'the', 'garden', 'of', 'love', 'that', 'so', 'many', 'sweet', 'flowers', 'bore', 'and', 'saw', 'it', 'was', 'filled', 'with', 'graves', 'and', 'tombstones', 'where', 'flowers', 'should', 'be', 'and', 'priests', 'in', 'black', 'gowns', 'were', 'walking', 'their', 'rounds', 'and', 'binding', 'with', 'briars', 'my', 'joys', 'and', 'desires', 'the', 'little', 'vagabond', 'dear', 'mother', 'dear', 'mother', 'the', 'church', 'is', 'cold', 'but', 'the', 'alehouse', 'is', 'healthy', 'and', 'pleasant', 'and', 'warm', 'besides', 'can', 'tell', 'where', 'am', 'used', 'well', 'the', 'poor', 'parsons', 'with', 'wind', 'like', 'blown', 'bladder', 'swell', 'but', 'if', 'at', 'the', 'church', 'they', 'would', 'give', 'us', 'some', 'ale', 'and', 'pleasant', 'fire', 'our', 'souls', 'to', 'regale', 'we', 'sing', 'and', 'we', 'pray', 'all', 'the', 'livelong', 'day', 'nor', 'ever', 'once', 'wish', 'from', 'the', 'church', 'to', 'stray', 'then', 'the', 'parson', 'might', 'preach', 'and', 'drink', 'and', 'sing', 'and', 'we', 'be', 'as', 'happy', 'as', 'birds', 'in', 'the', 'spring', 'and', 'modest', 'dame', 'lurch', 'who', 'is', 'always', 'at', 'church', 'would', 'not', 'have', 'bandy', 'children', 'nor', 'fasting', 'nor', 'birch', 'and', 'god', 'like', 'father', 'rejoicing', 'to', 'see', 'his', 'children', 'as', 'pleasant', 'and', 'happy', 'as', 'he', 'would', 'have', 'no', 'more', 'quarrel', 'with', 'the', 'devil', 'or', 'the', 'barrel', 'but', 'kiss', 'him', 'and', 'give', 'him', 'both', 'drink', 'and', 'apparel', 'london', 'wandered', 'through', 'each', 'chartered', 'street', 'near', 'where', 'the', 'chartered', 'thames', 'does', 'flow', 'mark', 'in', 'every', 'face', 'meet', 'marks', 'of', 'weakness', 'marks', 'of', 'woe', 'in', 'every', 'cry', 'of', 'every', 'man', 'in', 'every', 'infant', 'cry', 'of', 'fear', 'in', 'every', 'voice', 'in', 'every', 'ban', 'the', 'mind', 'forged', 'manacles', 'hear', 'how', 'the', 'chimney', 'sweeper', 'cry', 'every', 'blackening', 'church', 'appals', 'and', 'the', 'hapless', 'soldier', 'sigh', 'runs', 'in', 'blood', 'down', 'palace', 'walls', 'but', 'most', 'through', 'midnight', 'streets', 'hear', 'how', 'the', 'youthful', 'harlot', 'curse', 'blasts', 'the', 'new', 'born', 'infant', 'tear', 'and', 'blights', 'with', 'plagues', 'the', 'marriage', 'hearse', 'the', 'human', 'abstract', 'pity', 'would', 'be', 'no', 'more', 'if', 'we', 'did', 'not', 'make', 'somebody', 'poor', 'and', 'mercy', 'no', 'more', 'could', 'be', 'if', 'all', 'were', 'as', 'happy', 'as', 'we', 'and', 'mutual', 'fear', 'brings', 'peace', 'till', 'the', 'selfish', 'loves', 'increase', 'then', 'cruelty', 'knits', 'snare', 'and', 'spreads', 'his', 'baits', 'with', 'care', 'he', 'sits', 'down', 'with', 'his', 'holy', 'fears', 'and', 'waters', 'the', 'ground', 'with', 'tears', 'then', 'humility', 'takes', 'its', 'root', 'underneath', 'his', 'foot', 'soon', 'spreads', 'the', 'dismal', 'shade', 'of', 'mystery', 'over', 'his', 'head', 'and', 'the', 'caterpillar', 'and', 'fly', 'feed', 'on', 'the', 'mystery', 'and', 'it', 'bears', 'the', 'fruit', 'of', 'deceit', 'ruddy', 'and', 'sweet', 'to', 'eat', 'and', 'the', 'raven', 'his', 'nest', 'has', 'made', 'in', 'its', 'thickest', 'shade', 'the', 'gods', 'of', 'the', 'earth', 'and', 'sea', 'sought', 'through', 'nature', 'to', 'find', 'this', 'tree', 'but', 'their', 'search', 'was', 'all', 'in', 'vain', 'there', 'grows', 'one', 'in', 'the', 'human', 'brain', 'infant', 'sorrow', 'my', 'mother', 'groaned', 'my', 'father', 'wept', 'into', 'the', 'dangerous', 'world', 'leapt', 'helpless', 'naked', 'piping', 'loud', 'like', 'fiend', 'hid', 'in', 'cloud', 'struggling', 'in', 'my', 'father', 'hands', 'striving', 'against', 'my', 'swaddling', 'bands', 'bound', 'and', 'weary', 'thought', 'best', 'to', 'sulk', 'upon', 'my', 'mother', 'breast', 'poison', 'tree', 'was', 'angry', 'with', 'my', 'friend', 'told', 'my', 'wrath', 'my', 'wrath', 'did', 'end', 'was', 'angry', 'with', 'my', 'foe', 'told', 'it', 'not', 'my', 'wrath', 'did', 'grow', 'and', 'watered', 'it', 'in', 'fears', 'night', 'and', 'morning', 'with', 'my', 'tears', 'and', 'sunned', 'it', 'with', 'smiles', 'and', 'with', 'soft', 'deceitful', 'wiles', 'and', 'it', 'grew', 'both', 'day', 'and', 'night', 'till', 'it', 'bore', 'an', 'apple', 'bright', 'and', 'my', 'foe', 'beheld', 'it', 'shine', 'and', 'he', 'knew', 'that', 'it', 'was', 'mine', 'and', 'into', 'my', 'garden', 'stole', 'when', 'the', 'night', 'had', 'veiled', 'the', 'pole', 'in', 'the', 'morning', 'glad', 'see', 'my', 'foe', 'outstretched', 'beneath', 'the', 'tree', 'little', 'boy', 'lost', 'nought', 'loves', 'another', 'as', 'itself', 'nor', 'venerates', 'another', 'so', 'nor', 'is', 'it', 'possible', 'to', 'thought', 'greater', 'than', 'itself', 'to', 'know', 'and', 'father', 'how', 'can', 'love', 'you', 'or', 'any', 'of', 'my', 'brothers', 'more', 'love', 'you', 'like', 'the', 'little', 'bird', 'that', 'picks', 'up', 'crumbs', 'around', 'the', 'door', 'the', 'priest', 'sat', 'by', 'and', 'heard', 'the', 'child', 'in', 'trembling', 'zeal', 'he', 'seized', 'his', 'hair', 'he', 'led', 'him', 'by', 'his', 'little', 'coat', 'and', 'all', 'admired', 'the', 'priestly', 'care', 'and', 'standing', 'on', 'the', 'altar', 'high', 'lo', 'what', 'fiend', 'is', 'here', 'said', 'he', 'one', 'who', 'sets', 'reason', 'up', 'for', 'judge', 'of', 'our', 'most', 'holy', 'mystery', 'the', 'weeping', 'child', 'could', 'not', 'be', 'heard', 'the', 'weeping', 'parents', 'wept', 'in', 'vain', 'they', 'stripped', 'him', 'to', 'his', 'little', 'shirt', 'and', 'bound', 'him', 'in', 'an', 'iron', 'chain', 'and', 'burned', 'him', 'in', 'holy', 'place', 'where', 'many', 'had', 'been', 'burned', 'before', 'the', 'weeping', 'parents', 'wept', 'in', 'vain', 'are', 'such', 'thing', 'done', 'on', 'albion', 'shore', 'little', 'girl', 'lost', 'children', 'of', 'the', 'future', 'age', 'reading', 'this', 'indignant', 'page', 'know', 'that', 'in', 'former', 'time', 'love', 'sweet', 'love', 'was', 'thought', 'crime', 'in', 'the', 'age', 'of', 'gold', 'free', 'from', 'winter', 'cold', 'youth', 'and', 'maiden', 'bright', 'to', 'the', 'holy', 'light', 'naked', 'in', 'the', 'sunny', 'beams', 'delight', 'once', 'youthful', 'pair', 'filled', 'with', 'softest', 'care', 'met', 'in', 'garden', 'bright', 'where', 'the', 'holy', 'light', 'had', 'just', 'removed', 'the', 'curtains', 'of', 'the', 'night', 'then', 'in', 'rising', 'day', 'on', 'the', 'grass', 'they', 'play', 'parents', 'were', 'afar', 'strangers', 'came', 'not', 'near', 'and', 'the', 'maiden', 'soon', 'forgot', 'her', 'fear', 'tired', 'with', 'kisses', 'sweet', 'they', 'agree', 'to', 'meet', 'when', 'the', 'silent', 'sleep', 'waves', 'er', 'heaven', 'deep', 'and', 'the', 'weary', 'tired', 'wanderers', 'weep', 'to', 'her', 'father', 'white', 'came', 'the', 'maiden', 'bright', 'but', 'his', 'loving', 'look', 'like', 'the', 'holy', 'book', 'all', 'her', 'tender', 'limbs', 'with', 'terror', 'shook', 'ona', 'pale', 'and', 'weak', 'to', 'thy', 'father', 'speak', 'oh', 'the', 'trembling', 'fear', 'oh', 'the', 'dismal', 'care', 'that', 'shakes', 'the', 'blossoms', 'of', 'my', 'hoary', 'hair', 'the', 'schoolboy', 'love', 'to', 'rise', 'on', 'summer', 'morn', 'when', 'birds', 'are', 'singing', 'on', 'every', 'tree', 'the', 'distant', 'huntsman', 'winds', 'his', 'horn', 'and', 'the', 'skylark', 'sings', 'with', 'me', 'oh', 'what', 'sweet', 'company', 'but', 'to', 'go', 'to', 'school', 'in', 'summer', 'morn', 'oh', 'it', 'drives', 'all', 'joy', 'away', 'under', 'cruel', 'eye', 'outworn', 'the', 'little', 'ones', 'spend', 'the', 'day', 'in', 'sighing', 'and', 'dismay', 'ah', 'then', 'at', 'times', 'drooping', 'sit', 'and', 'spend', 'many', 'an', 'anxious', 'hour', 'nor', 'in', 'my', 'book', 'can', 'take', 'delight', 'nor', 'sit', 'in', 'learning', 'bower', 'worn', 'through', 'with', 'the', 'dreary', 'shower', 'how', 'can', 'the', 'bird', 'that', 'is', 'born', 'for', 'joy', 'sit', 'in', 'cage', 'and', 'sing', 'how', 'can', 'child', 'when', 'fears', 'annoy', 'but', 'droop', 'his', 'tender', 'wing', 'and', 'forget', 'his', 'youthful', 'spring', 'oh', 'father', 'and', 'mother', 'if', 'buds', 'are', 'nipped', 'and', 'blossoms', 'blown', 'away', 'and', 'if', 'the', 'tender', 'plants', 'are', 'stripped', 'of', 'their', 'joy', 'in', 'the', 'springing', 'day', 'by', 'sorrow', 'and', 'care', 'dismay', 'how', 'shall', 'the', 'summer', 'arise', 'in', 'joy', 'or', 'the', 'summer', 'fruits', 'appear', 'or', 'how', 'shall', 'we', 'gather', 'what', 'griefs', 'destroy', 'or', 'bless', 'the', 'mellowing', 'year', 'when', 'the', 'blasts', 'of', 'winter', 'appear', 'to', 'terzah', 'whate', 'er', 'is', 'born', 'of', 'mortal', 'birth', 'must', 'be', 'consumed', 'with', 'the', 'earth', 'to', 'rise', 'from', 'generation', 'free', 'then', 'what', 'have', 'to', 'do', 'with', 'thee', 'the', 'sexes', 'sprang', 'from', 'shame', 'and', 'pride', 'blown', 'in', 'the', 'morn', 'in', 'evening', 'died', 'but', 'mercy', 'changed', 'death', 'into', 'sleep', 'the', 'sexes', 'rose', 'to', 'work', 'and', 'weep', 'thou', 'mother', 'of', 'my', 'mortal', 'part', 'with', 'cruelty', 'didst', 'mould', 'my', 'heart', 'and', 'with', 'false', 'self', 'deceiving', 'tears', 'didst', 'bind', 'my', 'nostrils', 'eyes', 'and', 'ears', 'didst', 'close', 'my', 'tongue', 'in', 'senseless', 'clay', 'and', 'me', 'to', 'mortal', 'life', 'betray', 'the', 'death', 'of', 'jesus', 'set', 'me', 'free', 'then', 'what', 'have', 'to', 'do', 'with', 'thee', 'the', 'voice', 'of', 'the', 'ancient', 'bard', 'youth', 'of', 'delight', 'come', 'hither', 'and', 'see', 'the', 'opening', 'morn', 'image', 'of', 'truth', 'new', 'born', 'doubt', 'is', 'fled', 'and', 'clouds', 'of', 'reason', 'dark', 'disputes', 'and', 'artful', 'teazing', 'folly', 'is', 'an', 'endless', 'maze', 'tangled', 'roots', 'perplex', 'her', 'ways', 'how', 'many', 'have', 'fallen', 'there', 'they', 'stumble', 'all', 'night', 'over', 'bones', 'of', 'the', 'dead', 'and', 'feel', 'they', 'know', 'not', 'what', 'but', 'care', 'and', 'wish', 'to', 'lead', 'others', 'when', 'they', 'should', 'be', 'led', 'appendix', 'divine', 'image', 'cruelty', 'has', 'human', 'heart', 'and', 'jealousy', 'human', 'face', 'terror', 'the', 'human', 'form', 'divine', 'and', 'secresy', 'the', 'human', 'dress', 'the', 'human', 'dress', 'is', 'forged', 'iron', 'the', 'human', 'form', 'fiery', 'forge', 'the', 'human', 'face', 'furnace', 'sealed', 'the', 'human', 'heart', 'its', 'hungry', 'gorge', 'note', 'though', 'written', 'and', 'engraved', 'by', 'blake', 'divine', 'image', 'was', 'never', 'included', 'in', 'the', 'songs', 'of', 'innocence', 'and', 'of', 'experience', 'william', 'blake', 'the', 'book', 'of', 'thel', 'thel', 'motto', 'does', 'the', 'eagle', 'know', 'what', 'is', 'in', 'the', 'pit', 'or', 'wilt', 'thou', 'go', 'ask', 'the', 'mole', 'can', 'wisdom', 'be', 'put', 'in', 'silver', 'rod', 'or', 'love', 'in', 'golden', 'bowl', 'the', 'book', 'of', 'thel', 'the', 'author', 'printer', 'willm', 'blake', 'thel', 'the', 'daughters', 'of', 'mne', 'seraphim', 'led', 'round', 'their', 'sunny', 'flocks', 'all', 'but', 'the', 'youngest', 'she', 'in', 'paleness', 'sought', 'the', 'secret', 'air', 'to', 'fade', 'away', 'like', 'morning', 'beauty', 'from', 'her', 'mortal', 'day', 'down', 'by', 'the', 'river', 'of', 'adona', 'her', 'soft', 'voice', 'is', 'heard', 'and', 'thus', 'her', 'gentle', 'lamentation', 'falls', 'like', 'morning', 'dew', 'life', 'of', 'this', 'our', 'spring', 'why', 'fades', 'the', 'lotus', 'of', 'the', 'water', 'why', 'fade', 'these', 'children', 'of', 'the', 'spring', 'born', 'but', 'to', 'smile', 'fall', 'ah', 'thel', 'is', 'like', 'watry', 'bow', 'and', 'like', 'parting', 'cloud', 'like', 'reflection', 'in', 'glass', 'like', 'shadows', 'in', 'the', 'water', 'like', 'dreams', 'of', 'infants', 'like', 'smile', 'upon', 'an', 'infants', 'face', 'like', 'the', 'doves', 'voice', 'like', 'transient', 'day', 'like', 'music', 'in', 'the', 'air', 'ah', 'gentle', 'may', 'lay', 'me', 'down', 'and', 'gentle', 'rest', 'my', 'head', 'and', 'gentle', 'sleep', 'the', 'sleep', 'of', 'death', 'and', 'gently', 'hear', 'the', 'voice', 'of', 'him', 'that', 'walketh', 'in', 'the', 'garden', 'in', 'the', 'evening', 'time', 'the', 'lilly', 'of', 'the', 'valley', 'breathing', 'in', 'the', 'humble', 'grass', 'answerd', 'the', 'lovely', 'maid', 'and', 'said', 'am', 'watry', 'weed', 'and', 'am', 'very', 'small', 'and', 'love', 'to', 'dwell', 'in', 'lowly', 'vales', 'so', 'weak', 'the', 'gilded', 'butterfly', 'scarce', 'perches', 'on', 'my', 'head', 'yet', 'am', 'visited', 'from', 'heaven', 'and', 'he', 'that', 'smiles', 'on', 'all', 'walks', 'in', 'the', 'valley', 'and', 'each', 'morn', 'over', 'me', 'spreads', 'his', 'hand', 'saying', 'rejoice', 'thou', 'humble', 'grass', 'thou', 'new', 'born', 'lily', 'flower', 'thou', 'gentle', 'maid', 'of', 'silent', 'valleys', 'and', 'of', 'modest', 'brooks', 'for', 'thou', 'shall', 'be', 'clothed', 'in', 'light', 'and', 'fed', 'with', 'morning', 'manna', 'till', 'summers', 'heat', 'melts', 'thee', 'beside', 'the', 'fountains', 'and', 'the', 'springs', 'to', 'flourish', 'in', 'eternal', 'vales', 'they', 'why', 'should', 'thel', 'complain', 'why', 'should', 'the', 'mistress', 'of', 'the', 'vales', 'of', 'har', 'utter', 'sigh', 'she', 'ceasd', 'smild', 'in', 'tears', 'then', 'sat', 'down', 'in', 'her', 'silver', 'shrine', 'thel', 'answerd', 'thou', 'little', 'virgin', 'of', 'the', 'peaceful', 'valley', 'giving', 'to', 'those', 'that', 'can', 'not', 'crave', 'the', 'voiceless', 'the', 'er', 'tired', 'the', 'breath', 'doth', 'nourish', 'the', 'innocent', 'lamb', 'he', 'smells', 'the', 'milky', 'garments', 'he', 'crops', 'thy', 'flowers', 'while', 'thou', 'sittest', 'smiling', 'in', 'his', 'face', 'wiping', 'his', 'mild', 'and', 'meekin', 'mouth', 'from', 'all', 'contagious', 'taints', 'thy', 'wine', 'doth', 'purify', 'the', 'golden', 'honey', 'thy', 'perfume', 'which', 'thou', 'dost', 'scatter', 'on', 'every', 'little', 'blade', 'of', 'grass', 'that', 'springs', 'revives', 'the', 'milked', 'cow', 'tames', 'the', 'fire', 'breathing', 'steed', 'but', 'thel', 'is', 'like', 'faint', 'cloud', 'kindled', 'at', 'the', 'rising', 'sun', 'vanish', 'from', 'my', 'pearly', 'throne', 'and', 'who', 'shall', 'find', 'my', 'place', 'queen', 'of', 'the', 'vales', 'the', 'lily', 'answered', 'ask', 'the', 'tender', 'cloud', 'and', 'it', 'shall', 'tell', 'thee', 'why', 'it', 'glitters', 'in', 'the', 'morning', 'sky', 'and', 'why', 'it', 'scatters', 'its', 'bright', 'beauty', 'thro', 'the', 'humid', 'air', 'descend', 'little', 'cloud', 'hover', 'before', 'the', 'eyes', 'of', 'thel', 'the', 'cloud', 'descended', 'and', 'the', 'lily', 'bowd', 'her', 'modest', 'head', 'and', 'went', 'to', 'mind', 'her', 'numerous', 'charge', 'among', 'the', 'verdant', 'grass', 'ii', 'little', 'cloud', 'the', 'virgin', 'said', 'charge', 'thee', 'to', 'tell', 'me', 'why', 'thou', 'complainest', 'now', 'when', 'in', 'one', 'hour', 'thou', 'fade', 'away', 'then', 'we', 'shall', 'seek', 'thee', 'but', 'not', 'find', 'ah', 'thel', 'is', 'like', 'to', 'thee', 'pass', 'away', 'yet', 'complain', 'and', 'no', 'one', 'hears', 'my', 'voice', 'the', 'cloud', 'then', 'shewd', 'his', 'golden', 'head', 'his', 'bright', 'form', 'emerg', 'hovering', 'and', 'glittering', 'on', 'the', 'air', 'before', 'the', 'face', 'of', 'thel', 'virgin', 'know', 'st', 'thou', 'not', 'our', 'steeds', 'drink', 'of', 'the', 'golden', 'springs', 'where', 'luvah', 'doth', 'renew', 'his', 'horses', 'lookst', 'thou', 'on', 'my', 'youth', 'and', 'fearest', 'thou', 'because', 'vanish', 'and', 'am', 'seen', 'no', 'more', 'nothing', 'remains', 'maid', 'tell', 'thee', 'when', 'pass', 'away', 'it', 'is', 'to', 'tenfold', 'life', 'to', 'love', 'to', 'peace', 'and', 'raptures', 'holy', 'unseen', 'descending', 'weigh', 'my', 'light', 'wings', 'upon', 'balmy', 'flowers', 'and', 'court', 'the', 'fair', 'eyed', 'dew', 'to', 'take', 'me', 'to', 'her', 'shining', 'tent', 'the', 'weeping', 'virgin', 'trembling', 'kneels', 'before', 'the', 'risen', 'sun', 'till', 'we', 'arise', 'link', 'in', 'golden', 'band', 'and', 'never', 'part', 'but', 'walk', 'united', 'bearing', 'food', 'to', 'all', 'our', 'tender', 'flowers', 'dost', 'thou', 'little', 'cloud', 'fear', 'that', 'am', 'not', 'like', 'thee', 'for', 'walk', 'through', 'the', 'vales', 'of', 'har', 'and', 'smell', 'the', 'sweetest', 'flowers', 'but', 'feed', 'not', 'the', 'little', 'flowers', 'hear', 'the', 'warbling', 'birds', 'but', 'feed', 'not', 'the', 'warbling', 'birds', 'they', 'fly', 'and', 'seek', 'their', 'food', 'but', 'thel', 'delights', 'in', 'these', 'no', 'more', 'because', 'fade', 'away', 'and', 'all', 'shall', 'say', 'without', 'use', 'this', 'shining', 'women', 'liv', 'or', 'did', 'she', 'only', 'live', 'to', 'be', 'at', 'death', 'the', 'food', 'of', 'worms', 'the', 'cloud', 'reclind', 'upon', 'his', 'airy', 'throne', 'and', 'answerd', 'thus', 'then', 'if', 'thou', 'art', 'the', 'food', 'of', 'worms', 'virgin', 'of', 'the', 'skies', 'how', 'great', 'thy', 'use', 'how', 'great', 'thy', 'blessing', 'every', 'thing', 'that', 'lives', 'lives', 'not', 'alone', 'nor', 'or', 'itself', 'fear', 'not', 'and', 'will', 'call', 'the', 'weak', 'worm', 'from', 'its', 'lowly', 'bed', 'and', 'thou', 'shalt', 'hear', 'its', 'voice', 'come', 'forth', 'worm', 'and', 'the', 'silent', 'valley', 'to', 'thy', 'pensive', 'queen', 'the', 'helpless', 'worm', 'arose', 'and', 'sat', 'upon', 'the', 'lillys', 'leaf', 'and', 'the', 'bright', 'cloud', 'saild', 'on', 'to', 'find', 'his', 'partner', 'in', 'the', 'vale', 'iii', 'then', 'thel', 'astonish', 'view', 'the', 'worm', 'upon', 'its', 'dewy', 'bed', 'art', 'thou', 'worm', 'image', 'of', 'weakness', 'art', 'thou', 'but', 'worm', 'see', 'thee', 'like', 'an', 'infant', 'wrapped', 'in', 'the', 'lillys', 'leaf', 'ah', 'weep', 'not', 'little', 'voice', 'thou', 'can', 'st', 'not', 'speak', 'but', 'thou', 'can', 'st', 'weep', 'is', 'this', 'worm', 'see', 'they', 'lay', 'helpless', 'naked', 'weeping', 'and', 'none', 'to', 'answer', 'none', 'to', 'cherish', 'thee', 'with', 'mothers', 'smiles', 'the', 'clod', 'of', 'clay', 'heard', 'the', 'worms', 'voice', 'rais', 'her', 'pitying', 'head', 'she', 'bowd', 'over', 'the', 'weeping', 'infant', 'and', 'her', 'life', 'exhald', 'in', 'milky', 'fondness', 'then', 'on', 'thel', 'she', 'fix', 'her', 'humble', 'eyes', 'beauty', 'of', 'the', 'vales', 'of', 'har', 'we', 'live', 'not', 'for', 'ourselves', 'thou', 'seest', 'me', 'the', 'meanest', 'thing', 'and', 'so', 'am', 'indeed', 'my', 'bosom', 'of', 'itself', 'is', 'cold', 'and', 'of', 'itself', 'is', 'dark', 'but', 'he', 'that', 'loves', 'the', 'lowly', 'pours', 'his', 'oil', 'upon', 'my', 'head', 'and', 'kisses', 'me', 'and', 'binds', 'his', 'nuptial', 'bands', 'around', 'my', 'breast', 'and', 'says', 'thou', 'mother', 'of', 'my', 'children', 'have', 'loved', 'thee', 'and', 'have', 'given', 'thee', 'crown', 'that', 'none', 'can', 'take', 'away', 'but', 'how', 'this', 'is', 'sweet', 'maid', 'know', 'not', 'and', 'can', 'not', 'know', 'ponder', 'and', 'can', 'not', 'ponder', 'yet', 'live', 'and', 'love', 'the', 'daughter', 'of', 'beauty', 'wip', 'her', 'pitying', 'tears', 'with', 'her', 'white', 'veil', 'and', 'said', 'alas', 'knew', 'not', 'this', 'and', 'therefore', 'did', 'weep', 'that', 'god', 'would', 'love', 'worm', 'knew', 'and', 'punish', 'the', 'evil', 'foot', 'that', 'wilful', 'bruis', 'its', 'helpless', 'form', 'but', 'that', 'he', 'cherish', 'it', 'with', 'milk', 'and', 'oil', 'never', 'knew', 'and', 'therefore', 'did', 'weep', 'and', 'complaind', 'in', 'the', 'mild', 'air', 'because', 'fade', 'away', 'and', 'lay', 'me', 'down', 'in', 'thy', 'cold', 'bed', 'and', 'leave', 'my', 'shining', 'lot', 'queen', 'of', 'the', 'vales', 'the', 'matron', 'clay', 'answered', 'heard', 'thy', 'sighs', 'and', 'all', 'thy', 'moans', 'flew', 'er', 'my', 'roof', 'but', 'have', 'call', 'them', 'down', 'wilt', 'thou', 'queen', 'enter', 'my', 'house', 'tis', 'given', 'thee', 'to', 'enter', 'and', 'to', 'return', 'fear', 'nothing', 'enter', 'with', 'thy', 'virgin', 'feet', 'iv', 'the', 'eternal', 'gates', 'terrific', 'porter', 'lifted', 'the', 'northern', 'bar', 'thel', 'enter', 'in', 'saw', 'the', 'secrets', 'of', 'the', 'land', 'unknown', 'she', 'saw', 'the', 'couches', 'of', 'the', 'dead', 'where', 'the', 'fibrous', 'roots', 'of', 'every', 'heart', 'on', 'earth', 'infixes', 'deep', 'its', 'restless', 'twists', 'land', 'of', 'sorrows', 'of', 'tears', 'where', 'never', 'smile', 'was', 'seen', 'she', 'wandered', 'in', 'the', 'land', 'of', 'clouds', 'thro', 'valleys', 'dark', 'listning', 'dolors', 'lamentations', 'waiting', 'oft', 'beside', 'the', 'dewy', 'grave', 'she', 'stood', 'in', 'silence', 'listning', 'to', 'the', 'voices', 'of', 'the', 'ground', 'till', 'to', 'her', 'own', 'grave', 'plot', 'she', 'came', 'there', 'she', 'sat', 'down', 'and', 'heard', 'this', 'voice', 'of', 'sorrow', 'breathed', 'from', 'the', 'hollow', 'pit', 'why', 'can', 'not', 'the', 'ear', 'be', 'closed', 'to', 'its', 'own', 'destruction', 'or', 'the', 'glistening', 'eye', 'to', 'the', 'poison', 'of', 'smile', 'why', 'are', 'eyelids', 'stord', 'with', 'arrows', 'ready', 'drawn', 'where', 'thousand', 'fighting', 'men', 'in', 'ambush', 'lie', 'or', 'an', 'eye', 'of', 'gifts', 'graces', 'showring', 'fruits', 'coined', 'gold', 'why', 'tongue', 'impress', 'with', 'honey', 'from', 'every', 'wind', 'why', 'an', 'ear', 'whirlpool', 'fierce', 'to', 'draw', 'creations', 'in', 'why', 'nostril', 'wide', 'inhaling', 'terror', 'trembling', 'affright', 'why', 'tender', 'curb', 'upon', 'the', 'youthful', 'burning', 'boy', 'why', 'little', 'curtain', 'of', 'flesh', 'on', 'the', 'bed', 'of', 'our', 'desire', 'the', 'virgin', 'started', 'from', 'her', 'seat', 'with', 'shriek', 'fled', 'back', 'unhinderd', 'till', 'she', 'came', 'into', 'the', 'vales', 'of', 'har']\n"
          ]
        }
      ]
    },
    {
      "cell_type": "code",
      "source": [
        "len(set(book_text_words))"
      ],
      "metadata": {
        "colab": {
          "base_uri": "https://localhost:8080/"
        },
        "id": "lfprJozjvDlt",
        "outputId": "4fb0b7a0-bfaf-48bd-8232-d0ca78b825f9"
      },
      "execution_count": 21,
      "outputs": [
        {
          "output_type": "execute_result",
          "data": {
            "text/plain": [
              "1505"
            ]
          },
          "metadata": {},
          "execution_count": 21
        }
      ]
    },
    {
      "cell_type": "code",
      "source": [
        "from keras.preprocessing.text import Tokenizer\n",
        "tokenizer = Tokenizer(num_words=unique_words)\n",
        "tokenizer.fit_on_texts(book_text_words)\n",
        "\n",
        "vocab_size = len(tokenizer.word_index) + 1    # word_index is the dictionary. Store the number of unique words in vocab_size variable\n",
        "word_2_index = tokenizer.word_index           # store the dictionary in the variable called word_2_index"
      ],
      "metadata": {
        "id": "HeJEpCJnurcd"
      },
      "execution_count": 25,
      "outputs": []
    },
    {
      "cell_type": "code",
      "source": [
        "# Create the input sequences\n",
        "input_sequence_words = []  # input sequences in words (used for metric evaluation later on)\n",
        "input_sequence = []   # empty list to hold the sequences that will be input into our model\n",
        "output_words = []     # empty list to hold the output words\n",
        "input_seq_length = 25  # length of the input sequence\n",
        "for i in range(0, n_words - input_seq_length , 1):\n",
        "    in_seq = book_text_words[i:i + input_seq_length]\n",
        "    input_sequence_words.append(in_seq)\n",
        "    out_seq = book_text_words[i + input_seq_length]\n",
        "    input_sequence.append([word_2_index[word] for word in in_seq])\n",
        "    output_words.append(word_2_index[out_seq])"
      ],
      "metadata": {
        "id": "gXHk_-nLvcBQ"
      },
      "execution_count": 27,
      "outputs": []
    },
    {
      "cell_type": "code",
      "source": [
        "print(output_words)"
      ],
      "metadata": {
        "colab": {
          "base_uri": "https://localhost:8080/"
        },
        "id": "_hHAToGLvtMC",
        "outputId": "604f0594-1671-4107-eef9-eec13e51b0b5"
      },
      "execution_count": 33,
      "outputs": [
        {
          "output_type": "stream",
          "name": "stdout",
          "text": [
            "[164, 3, 226, 710, 12, 73, 165, 54, 2, 9, 227, 143, 5, 21, 278, 112, 711, 74, 45, 461, 7, 122, 462, 463, 278, 16, 112, 350, 45, 461, 9, 123, 5, 64, 712, 27, 278, 27, 50, 278, 98, 27, 164, 3, 50, 462, 45, 464, 1, 713, 350, 81, 9, 123, 7, 37, 5, 64, 463, 89, 15, 49, 2, 714, 4, 189, 16, 17, 190, 465, 45, 9, 279, 25, 6, 466, 2, 715, 280, 351, 716, 2, 191, 717, 718, 2, 467, 1, 352, 719, 2, 720, 6, 50, 164, 58, 54, 190, 37, 5, 64, 1, 353, 82, 32, 10, 1, 353, 32, 468, 25, 1, 144, 5, 1, 228, 9, 721, 9, 51, 354, 8, 281, 17, 1, 52, 2, 8, 282, 51, 38, 192, 7, 469, 26, 9, 283, 1, 229, 284, 230, 2, 9, 283, 1, 722, 124, 723, 9, 10, 724, 81, 13, 39, 4, 125, 26, 13, 99, 33, 22, 353, 10, 470, 1, 355, 65, 1, 100, 55, 126, 2, 231, 50, 1, 285, 1, 122, 471, 725, 5, 286, 1, 145, 1, 472, 2, 726, 1, 101, 3, 1, 727, 98, 728, 232, 5, 1, 471, 729, 473, 81, 43, 474, 51, 38, 193, 12, 1, 355, 65, 194, 730, 7, 90, 195, 55, 196, 41, 91, 475, 287, 1, 731, 146, 1, 194, 732, 13, 196, 166, 43, 127, 2, 233, 13, 17, 167, 197, 197, 113, 1, 356, 33, 59, 17, 476, 2, 477, 4, 43, 147, 234, 113, 193, 12, 1, 355, 65, 75, 1, 11, 357, 235, 56, 128, 23, 38, 122, 1, 100, 55, 478, 2, 43, 474, 60, 46, 479, 129, 1, 733, 3, 22, 480, 168, 734, 2, 481, 19, 101, 4, 22, 288, 39, 482, 26, 358, 2, 483, 56, 128, 193, 12, 1, 735, 65, 1, 74, 11, 74, 57, 231, 15, 236, 20, 99, 57, 191, 15, 359, 15, 148, 2, 736, 15, 289, 40, 1, 484, 2, 66, 1, 737, 359, 15, 485, 3, 83, 486, 485, 738, 76, 359, 15, 197, 124, 67, 487, 17, 1, 130, 360, 11, 74, 57, 191, 15, 236, 20, 99, 57, 191, 15, 11, 74, 290, 198, 15, 11, 74, 290, 198, 15, 9, 10, 488, 40, 27, 237, 26, 9, 489, 739, 74, 9, 10, 490, 2, 9, 10, 169, 9, 491, 11, 54, 280, 54, 2, 20, 74, 59, 39, 488, 40, 8, 237, 11, 74, 102, 361, 15, 11, 74, 102, 361, 15, 1, 11, 149, 103, 6, 53, 170, 21, 4, 1, 492, 121, 2, 68, 149, 18, 104, 6, 493, 10, 90, 90, 69, 46, 131, 10, 1, 494, 54, 18, 68, 149, 69, 61, 740, 3, 105, 6, 53, 495, 21, 362, 114, 2, 475, 49, 171, 1, 238, 3, 52, 77, 496, 21, 12, 24, 741, 2, 363, 21, 2, 742, 5, 1, 743, 364, 5, 167, 239, 12, 1, 291, 100, 92, 102, 55, 199, 2, 292, 8, 105, 2, 292, 8, 238, 41, 2, 132, 2, 744, 2, 497, 2, 293, 498, 745, 4, 115, 37, 4, 1, 746, 2, 59, 39, 499, 12, 116, 11, 747, 16, 59, 190, 500, 5, 240, 1, 365, 3, 30, 2, 200, 149, 748, 2, 78, 749, 93, 10, 18, 73, 2, 19, 750, 366, 26, 33, 43, 501, 60, 500, 1, 238, 5, 240, 1, 73, 367, 279, 59, 51, 64, 8, 67, 368, 106, 241, 25, 1, 366, 6, 30, 2, 91, 2, 129, 6, 150, 369, 19, 229, 360, 294, 94, 6, 53, 167, 2, 363, 21, 2, 294, 167, 5, 11, 494, 103, 33, 25, 149, 2, 9, 25, 90, 73, 201, 2, 129, 1, 369, 3, 102, 19, 229, 59, 37, 290, 202, 107, 25, 1, 238, 75, 9, 23, 240, 5, 751, 4, 37, 84, 43, 44, 752, 2, 28, 290, 502, 2, 753, 8, 370, 195, 2, 38, 19, 107, 2, 9, 367, 28, 30, 21, 1, 295, 122, 122, 754, 287, 503, 45, 65, 50, 295, 504, 133, 755, 69, 756, 203, 108, 505, 757, 204, 6, 296, 151, 151, 506, 287, 503, 45, 65, 50, 295, 283, 133, 507, 507, 151, 151, 506, 204, 6, 296, 1, 371, 372, 33, 6, 53, 508, 29, 373, 758, 2, 6, 44, 759, 21, 81, 242, 6, 282, 205, 760, 172, 42, 42, 42, 42, 45, 108, 761, 762, 2, 4, 509, 47, 92, 11, 206, 763, 57, 764, 33, 8, 85, 16, 765, 19, 74, 374, 29, 766, 45, 143, 767, 206, 62, 243, 31, 26, 33, 108, 85, 510, 133, 99, 16, 1, 509, 23, 14, 768, 108, 90, 195, 2, 45, 9, 29, 769, 2, 16, 373, 34, 69, 206, 29, 173, 9, 174, 197, 466, 16, 511, 3, 770, 771, 772, 773, 2, 774, 113, 17, 3, 152, 775, 207, 4, 512, 3, 149, 2, 40, 134, 46, 131, 57, 174, 76, 776, 2, 9, 777, 1, 512, 2, 175, 152, 17, 201, 28, 49, 65, 778, 779, 227, 13, 780, 2, 781, 4, 375, 2, 208, 4, 1, 100, 28, 244, 2, 90, 17, 22, 513, 782, 783, 13, 297, 84, 376, 2, 483, 4, 1, 377, 2, 1, 131, 245, 206, 61, 9, 38, 784, 103, 9, 60, 102, 26, 8, 44, 2, 62, 514, 37, 2, 45, 206, 785, 2, 59, 135, 4, 1, 176, 2, 786, 7, 43, 513, 2, 43, 787, 5, 378, 515, 1, 115, 29, 177, 206, 29, 50, 2, 379, 45, 61, 17, 153, 22, 788, 13, 789, 14, 109, 516, 1, 11, 103, 154, 44, 44, 35, 39, 133, 790, 104, 153, 14, 380, 45, 791, 298, 44, 298, 5, 133, 11, 103, 48, 517, 51, 38, 154, 1, 34, 29, 176, 56, 44, 29, 92, 1, 54, 29, 792, 7, 299, 1, 793, 29, 136, 2, 1, 54, 94, 42, 2, 41, 1, 794, 518, 1, 11, 103, 381, 1, 11, 103, 154, 4, 1, 382, 795, 209, 40, 1, 796, 105, 364, 5, 172, 18, 102, 300, 470, 797, 19, 8, 44, 4, 90, 9, 363, 1, 54, 2, 40, 1, 137, 209, 2, 5, 8, 53, 798, 57, 4, 117, 246, 178, 1, 382, 383, 1, 11, 103, 86, 384, 227, 112, 33, 1, 65, 799, 196, 7, 1, 67, 3, 37, 2, 1, 800, 484, 519, 227, 40, 33, 1, 210, 55, 196, 7, 43, 122, 801, 2, 1, 65, 520, 521, 7, 1, 522, 3, 31, 33, 1, 802, 196, 7, 803, 65, 2, 1, 804, 521, 4, 1, 122, 805, 33, 806, 2, 807, 2, 808, 7, 22, 32, 129, 809, 98, 301, 301, 9, 33, 1, 810, 101, 196, 4, 1, 202, 35, 43, 811, 7, 812, 2, 813, 10, 814, 106, 199, 2, 38, 122, 2, 815, 7, 21, 5, 98, 1, 32, 816, 3, 301, 301, 9, 112, 32, 385, 155, 202, 66, 6, 302, 70, 85, 32, 385, 3, 226, 817, 40, 50, 156, 818, 365, 32, 47, 7, 247, 49, 523, 27, 819, 46, 70, 386, 32, 47, 131, 169, 387, 66, 6, 50, 54, 32, 110, 4, 1, 34, 387, 157, 6, 83, 32, 110, 53, 158, 17, 1, 524, 34, 525, 32, 388, 526, 527, 820, 14, 821, 25, 528, 138, 32, 389, 822, 158, 17, 1, 526, 388, 525, 47, 47, 50, 54, 17, 823, 824, 2, 529, 47, 47, 50, 47, 81, 66, 15, 179, 53, 42, 32, 530, 4, 27, 93, 88, 159, 23, 825, 32, 530, 303, 19, 15, 27, 304, 118, 2, 123, 26, 21, 123, 26, 21, 26, 15, 26, 17, 33, 9, 29, 46, 70, 180, 20, 8, 159, 300, 71, 826, 93, 16, 110, 12, 15, 110, 12, 15, 12, 21, 12, 17, 57, 491, 46, 70, 180, 70, 110, 39, 8, 305, 110, 119, 2, 116, 5, 125, 827, 211, 159, 5, 160, 139, 125, 2, 30, 17, 390, 4, 22, 531, 2, 5, 200, 828, 3, 83, 306, 22, 829, 26, 160, 139, 125, 2, 30, 10, 102, 43, 44, 391, 2, 160, 139, 125, 2, 30, 10, 212, 8, 54, 2, 91, 26, 160, 248, 72, 111, 139, 72, 93, 2, 30, 1, 72, 155, 211, 2, 125, 1, 72, 307, 28, 58, 212, 3, 58, 392, 16, 532, 4, 8, 531, 532, 5, 1, 72, 155, 211, 30, 160, 139, 125, 2, 17, 393, 30, 1, 72, 155, 4, 830, 831, 48, 832, 35, 160, 30, 2, 139, 394, 92, 102, 10, 833, 395, 88, 396, 834, 12, 88, 396, 22, 284, 835, 836, 134, 95, 397, 308, 2, 308, 4, 465, 2, 837, 2, 65, 398, 838, 839, 533, 171, 7, 840, 69, 90, 69, 309, 75, 249, 1, 399, 841, 3, 842, 13, 19, 534, 535, 400, 104, 36, 843, 13, 844, 200, 132, 3, 536, 845, 846, 4, 847, 13, 89, 7, 848, 17, 22, 305, 1, 537, 3, 538, 29, 92, 18, 538, 3, 229, 511, 3, 11, 477, 2, 476, 849, 22, 284, 401, 181, 19, 850, 121, 13, 851, 5, 119, 1, 67, 3, 112, 48, 19, 852, 853, 1, 854, 3, 119, 146, 539, 152, 89, 1, 855, 212, 856, 857, 3, 1, 310, 28, 402, 139, 858, 133, 540, 46, 131, 25, 108, 403, 34, 1, 100, 541, 4, 1, 859, 1, 228, 860, 55, 208, 1, 101, 39, 156, 4, 22, 288, 2, 393, 203, 26, 542, 1, 543, 19, 250, 4, 119, 399, 544, 7, 156, 83, 545, 2, 110, 12, 1, 34, 861, 65, 546, 2, 50, 366, 35, 547, 60, 862, 863, 83, 35, 229, 60, 864, 156, 865, 1, 251, 3, 548, 76, 549, 13, 550, 551, 2, 37, 552, 866, 12, 252, 867, 2, 295, 2, 252, 173, 296, 13, 239, 4, 58, 553, 288, 35, 101, 39, 404, 379, 13, 868, 554, 3, 58, 869, 5, 405, 152, 17, 25, 516, 61, 13, 71, 406, 86, 16, 213, 60, 555, 173, 13, 550, 47, 12, 22, 85, 2, 89, 49, 40, 22, 161, 33, 870, 2, 407, 556, 26, 408, 13, 253, 502, 2, 42, 557, 5, 540, 22, 871, 41, 2, 405, 152, 25, 1, 281, 18, 61, 13, 872, 873, 1, 548, 409, 874, 498, 252, 169, 558, 311, 875, 5, 876, 2, 92, 1, 254, 559, 138, 51, 400, 7, 96, 3, 214, 2, 253, 1, 124, 877, 2, 397, 129, 1, 560, 368, 312, 40, 8, 878, 2, 40, 8, 879, 880, 39, 561, 41, 25, 43, 410, 52, 2, 181, 313, 15, 881, 74, 23, 562, 49, 2, 47, 48, 314, 12, 107, 57, 170, 27, 237, 882, 563, 15, 2, 42, 26, 883, 4, 148, 375, 6, 76, 411, 26, 300, 51, 208, 19, 1, 214, 69, 884, 66, 1, 560, 145, 473, 1, 885, 181, 31, 886, 315, 83, 52, 2, 34, 887, 4, 1, 383, 888, 4, 412, 182, 182, 182, 5, 286, 4, 1, 255, 11, 103, 889, 3, 37, 11, 316, 32, 2, 180, 890, 55, 891, 45, 153, 133, 122, 67, 70, 522, 182, 182, 5, 286, 4, 1, 255, 11, 74, 564, 68, 106, 2, 565, 6, 90, 566, 175, 21, 892, 108, 247, 893, 175, 21, 567, 108, 247, 93, 182, 182, 5, 286, 4, 1, 255, 568, 112, 33, 1, 413, 3, 95, 39, 97, 12, 1, 65, 2, 227, 10, 97, 12, 1, 520, 6, 111, 10, 166, 358, 894, 6, 256, 2, 895, 517, 10, 896, 28, 106, 317, 6, 95, 1, 100, 10, 215, 49, 2, 1, 569, 3, 34, 126, 106, 106, 570, 897, 127, 2, 175, 257, 41, 75, 1, 115, 898, 4, 1, 285, 56, 56, 175, 257, 127, 26, 31, 10, 242, 52, 2, 59, 23, 14, 162, 5, 47, 571, 4, 1, 412, 1, 11, 101, 183, 2, 1, 572, 39, 17, 404, 7, 281, 414, 414, 162, 2, 127, 75, 1, 105, 415, 41, 2, 28, 162, 317, 5, 161, 1, 11, 357, 899, 2, 900, 2, 901, 2, 17, 1, 572, 902, 70, 37, 60, 56, 237, 68, 18, 308, 318, 194, 36, 51, 230, 15, 50, 68, 37, 10, 6, 237, 32, 37, 573, 15, 151, 37, 32, 37, 18, 308, 318, 194, 32, 37, 230, 15, 20, 236, 158, 98, 1, 81, 32, 37, 573, 15, 319, 303, 319, 94, 523, 202, 66, 6, 131, 574, 161, 16, 46, 903, 154, 87, 575, 35, 12, 184, 904, 118, 905, 906, 2, 907, 176, 908, 909, 416, 157, 168, 910, 911, 17, 111, 912, 97, 24, 167, 104, 6, 95, 153, 13, 172, 153, 13, 64, 22, 44, 258, 181, 13, 239, 913, 5, 71, 181, 306, 2, 42, 26, 21, 253, 914, 216, 18, 165, 915, 120, 204, 57, 916, 36, 917, 918, 489, 1, 919, 3, 1, 34, 68, 576, 5, 105, 1, 259, 81, 1, 577, 920, 8, 129, 354, 181, 1, 577, 537, 11, 921, 922, 15, 317, 12, 163, 117, 23, 71, 163, 140, 2, 14, 38, 4, 117, 395, 23, 71, 163, 320, 2, 14, 203, 26, 923, 924, 23, 71, 925, 216, 2, 14, 417, 6, 117, 926, 23, 44, 71, 8, 54, 42, 79, 38, 7, 117, 192, 23, 53, 89, 2, 64, 46, 70, 927, 46, 70, 109, 56, 56, 62, 23, 31, 38, 62, 62, 23, 31, 38, 2, 23, 9, 57, 110, 12, 17, 64, 1, 928, 7, 578, 180, 64, 1, 180, 315, 320, 2, 91, 64, 1, 929, 16, 418, 240, 2, 14, 89, 313, 1, 930, 931, 139, 4, 22, 256, 2, 14, 89, 1, 505, 204, 86, 216, 12, 70, 216, 2, 14, 89, 217, 34, 2, 52, 579, 17, 43, 96, 41, 104, 56, 62, 23, 31, 38, 62, 62, 23, 31, 38, 9, 179, 419, 8, 37, 5, 17, 9, 580, 46, 70, 180, 9, 580, 212, 3, 140, 9, 179, 417, 1, 117, 395, 314, 14, 20, 581, 258, 258, 2, 27, 304, 10, 14, 40, 314, 14, 20, 581, 42, 216, 2, 27, 304, 10, 14, 255, 104, 9, 292, 5, 257, 8, 37, 16, 43, 320, 9, 190, 420, 75, 43, 320, 10, 218, 46, 215, 9, 179, 89, 40, 257, 2, 389, 164, 3, 348, 460, 64, 1, 67, 3, 1, 582, 57, 932, 933, 2, 583, 504, 934, 584, 60, 97, 1, 88, 935, 16, 533, 146, 1, 421, 114, 936, 1, 937, 493, 2, 86, 4, 1, 228, 299, 16, 585, 938, 1, 422, 586, 2, 423, 423, 105, 587, 116, 116, 306, 126, 25, 241, 1, 424, 184, 34, 10, 416, 2, 1, 144, 939, 25, 1, 940, 941, 588, 41, 56, 128, 80, 425, 20, 588, 41, 1, 422, 942, 1, 589, 426, 39, 427, 15, 75, 1, 590, 3, 52, 116, 591, 116, 943, 207, 24, 85, 25, 1, 592, 260, 2, 944, 24, 105, 218, 945, 260, 2, 24, 946, 404, 7, 398, 593, 947, 12, 589, 426, 422, 428, 55, 405, 6, 948, 177, 2, 949, 86, 950, 64, 1, 44, 3, 1, 421, 293, 321, 44, 3, 293, 594, 951, 321, 109, 23, 83, 952, 4, 34, 1, 953, 3, 147, 2, 115, 240, 55, 145, 954, 87, 37, 33, 595, 2, 429, 596, 55, 1, 955, 956, 40, 34, 48, 1, 957, 4, 592, 958, 590, 78, 597, 430, 16, 55, 959, 6, 598, 232, 321, 219, 322, 960, 16, 201, 30, 7, 961, 431, 1, 432, 2, 1, 599, 30, 600, 14, 185, 5, 601, 79, 26, 185, 962, 406, 91, 18, 26, 163, 292, 31, 602, 2, 603, 119, 4, 604, 593, 45, 464, 11, 432, 3, 323, 963, 7, 1, 964, 251, 18, 599, 3, 1, 965, 966, 241, 200, 967, 433, 30, 600, 434, 605, 5, 601, 5, 606, 163, 5, 87, 83, 356, 4, 163, 968, 3, 602, 2, 603, 604, 4, 119, 969, 88, 396, 10, 78, 88, 261, 5, 71, 4, 970, 2, 971, 262, 607, 972, 5, 608, 609, 7, 177, 2, 973, 137, 10, 16, 220, 172, 112, 23, 31, 38, 112, 3, 37, 2, 45, 168, 95, 310, 31, 10, 262, 3, 610, 2, 22, 974, 55, 62, 208, 2, 22, 546, 39, 975, 2, 510, 2, 22, 324, 39, 192, 7, 435, 31, 10, 322, 263, 92, 26, 35, 66, 1, 100, 55, 208, 2, 35, 66, 1, 976, 55, 611, 607, 213, 62, 977, 92, 79, 610, 1, 243, 978, 1, 11, 316, 154, 4, 979, 980, 71, 16, 1, 116, 25, 47, 436, 1, 981, 136, 51, 126, 2, 203, 26, 24, 304, 490, 2, 1, 264, 121, 982, 186, 169, 4, 1, 492, 392, 35, 1, 221, 983, 62, 415, 41, 302, 141, 118, 437, 612, 194, 302, 141, 245, 77, 174, 438, 984, 985, 121, 101, 112, 32, 47, 106, 5, 21, 362, 78, 114, 153, 44, 53, 42, 35, 23, 141, 47, 154, 4, 264, 121, 10, 108, 11, 54, 82, 23, 141, 47, 61, 24, 53, 42, 61, 24, 111, 55, 986, 28, 175, 141, 987, 61, 6, 53, 47, 141, 51, 14, 42, 613, 613, 34, 66, 78, 264, 76, 175, 27, 543, 126, 81, 614, 6, 138, 173, 141, 118, 81, 1, 497, 3, 408, 106, 25, 988, 136, 615, 1, 187, 616, 1, 989, 254, 617, 2, 1, 142, 615, 28, 9, 990, 129, 66, 1, 991, 259, 992, 407, 127, 129, 24, 69, 77, 118, 81, 1, 254, 194, 993, 8, 411, 3, 214, 2, 24, 256, 94, 565, 2, 84, 24, 566, 25, 8, 138, 3, 994, 995, 96, 92, 134, 81, 1, 996, 997, 24, 998, 307, 2, 244, 13, 999, 5, 554, 1, 173, 187, 1, 11, 316, 381, 17, 1, 34, 4, 140, 141, 325, 162, 157, 277, 136, 81, 1, 1000, 42, 326, 2, 140, 1001, 1002, 7, 487, 389, 618, 4, 618, 437, 318, 13, 1003, 1, 264, 324, 437, 1004, 13, 47, 146, 619, 136, 2, 319, 13, 71, 22, 54, 1005, 4, 264, 121, 246, 178, 1006, 324, 1, 1007, 159, 1008, 1009, 86, 327, 7, 351, 1010, 620, 291, 25, 1011, 1, 220, 1012, 1013, 7, 251, 3, 235, 140, 77, 205, 56, 1014, 162, 4, 8, 1015, 9, 170, 24, 328, 7, 117, 1016, 75, 171, 22, 575, 1017, 254, 118, 1018, 374, 29, 219, 233, 8, 597, 411, 170, 152, 5, 1, 259, 28, 9, 1019, 232, 1020, 5, 8, 408, 18, 22, 265, 1021, 33, 9, 1022, 22, 401, 2, 156, 40, 152, 1023, 13, 239, 84, 8, 138, 192, 7, 136, 1024, 2, 1025, 1026, 558, 328, 4, 214, 12, 8, 85, 386, 12, 8, 1027, 49, 1028, 8, 150, 195, 215, 29, 17, 22, 91, 354, 21, 9, 143, 42, 14, 26, 1, 187, 4, 6, 621, 136, 141, 1029, 616, 28, 13, 1030, 35, 1, 1031, 209, 2, 165, 22, 173, 54, 146, 407, 121, 5, 78, 52, 13, 394, 4, 382, 1032, 79, 109, 1, 1033, 556, 79, 1, 254, 1034, 1, 371, 372, 11, 149, 261, 4, 1, 309, 1035, 42, 42, 4, 622, 3, 140, 35, 39, 27, 44, 2, 53, 167, 13, 39, 217, 215, 207, 5, 1, 222, 5, 390, 266, 29, 50, 84, 1, 623, 2, 529, 146, 1, 263, 309, 13, 624, 21, 4, 1, 1036, 3, 223, 2, 495, 21, 5, 98, 1, 622, 3, 140, 2, 266, 68, 50, 2, 625, 2, 98, 13, 314, 13, 60, 439, 21, 56, 1037, 2, 39, 215, 5, 469, 102, 2, 8, 626, 2, 1038, 57, 231, 207, 119, 3, 43, 608, 568, 112, 33, 413, 3, 95, 39, 97, 12, 1, 65, 2, 1039, 39, 4, 1, 383, 1, 318, 3, 6, 147, 297, 1040, 4, 6, 243, 6, 93, 1041, 65, 2, 246, 28, 106, 317, 6, 95, 1, 100, 10, 215, 49, 2, 1, 569, 3, 34, 126, 108, 145, 2, 108, 52, 39, 1042, 4, 127, 2, 108, 263, 2, 34, 4, 1043, 1, 627, 135, 135, 20, 224, 627, 1, 1044, 120, 16, 1045, 4, 1, 34, 4, 1, 1046, 1047, 248, 381, 241, 27, 161, 3, 1048, 37, 2, 8, 176, 628, 30, 55, 27, 148, 420, 1, 183, 11, 183, 27, 221, 127, 6, 553, 137, 248, 1049, 41, 68, 14, 280, 183, 19, 15, 48, 224, 14, 20, 212, 19, 21, 26, 625, 2, 329, 2, 98, 75, 629, 1050, 137, 51, 1051, 6, 630, 61, 267, 10, 148, 2, 1052, 2, 631, 2, 1, 514, 3, 267, 10, 223, 28, 68, 280, 50, 183, 61, 199, 48, 61, 1053, 1, 131, 1054, 319, 36, 23, 31, 1055, 2, 16, 29, 330, 268, 574, 40, 46, 131, 169, 1056, 140, 29, 1057, 66, 632, 2, 123, 217, 34, 2, 52, 2, 9, 1058, 6, 96, 41, 2, 123, 217, 52, 2, 34, 2, 633, 25, 107, 6, 111, 83, 45, 9, 496, 8, 440, 2, 218, 28, 1, 144, 1059, 1060, 1061, 1062, 6, 96, 2, 328, 6, 265, 7, 1063, 634, 1064, 2, 635, 233, 6, 131, 134, 350, 29, 328, 9, 134, 4, 219, 26, 1, 234, 3, 147, 29, 218, 2, 398, 1065, 113, 12, 6, 85, 1, 269, 269, 269, 441, 76, 4, 1, 1066, 3, 1, 34, 36, 410, 137, 48, 270, 205, 636, 27, 637, 638, 4, 36, 639, 1067, 48, 285, 1068, 1, 331, 3, 528, 138, 12, 36, 440, 332, 9, 640, 36, 1, 137, 332, 1069, 1, 331, 2, 36, 1070, 2, 36, 224, 205, 1071, 1, 1072, 3, 27, 111, 2, 33, 27, 111, 364, 5, 1073, 36, 260, 137, 2, 36, 260, 251, 36, 1, 1074, 36, 1, 430, 4, 36, 641, 29, 27, 642, 36, 1, 1075, 36, 260, 1076, 332, 87, 1077, 1078, 1079, 33, 1, 1080, 1081, 49, 22, 635, 2, 643, 119, 7, 22, 96, 94, 9, 158, 8, 378, 5, 71, 94, 9, 57, 191, 1, 74, 231, 15, 269, 269, 441, 76, 4, 1, 1082, 3, 1, 34, 36, 410, 137, 48, 270, 332, 636, 27, 637, 638, 6, 151, 135, 114, 250, 29, 1083, 5, 21, 197, 250, 69, 190, 62, 170, 18, 143, 1084, 151, 135, 114, 2, 1085, 1, 32, 250, 66, 28, 333, 5, 6, 151, 135, 114, 5, 1086, 24, 40, 52, 2, 40, 34, 18, 6, 135, 644, 41, 7, 428, 2, 24, 435, 113, 6, 434, 83, 188, 442, 188, 442, 235, 3, 234, 57, 1087, 1, 1088, 3, 1, 100, 557, 563, 16, 32, 150, 392, 35, 1, 1089, 1090, 10, 439, 35, 1, 147, 1091, 41, 7, 645, 2, 1, 246, 142, 1092, 4, 309, 126, 25, 22, 646, 2, 640, 35, 6, 442, 1093, 5, 162, 1, 271, 1, 334, 135, 1094, 647, 648, 1, 335, 281, 649, 1095, 650, 81, 1, 271, 90, 51, 4, 30, 83, 79, 648, 79, 649, 467, 24, 272, 76, 1, 186, 3, 30, 1096, 21, 49, 84, 1097, 35, 30, 118, 173, 97, 146, 1, 1098, 1099, 86, 86, 28, 333, 5, 1, 623, 2, 1, 121, 5, 1, 1100, 2, 435, 3, 1, 1101, 2, 13, 245, 21, 82, 13, 113, 632, 561, 241, 2, 1102, 5, 1, 1103, 333, 5, 1, 186, 3, 30, 2, 165, 36, 62, 174, 193, 651, 29, 1104, 4, 1, 1105, 35, 652, 5, 127, 12, 1, 65, 2, 1, 653, 3, 78, 651, 113, 1106, 2, 20, 654, 14, 1107, 157, 1, 403, 45, 644, 5, 1, 186, 3, 30, 16, 45, 168, 32, 132, 170, 2, 165, 31, 29, 192, 7, 646, 2, 1108, 35, 132, 213, 38, 2, 1109, 4, 149, 1110, 113, 397, 22, 1111, 2, 1112, 7, 1113, 6, 356, 2, 1114, 1, 11, 1115, 391, 53, 391, 53, 1, 222, 10, 177, 18, 1, 1116, 10, 1117, 2, 226, 2, 379, 571, 23, 198, 35, 68, 652, 414, 1, 310, 1118, 7, 377, 19, 443, 1119, 1120, 18, 61, 166, 1, 222, 13, 273, 419, 257, 629, 1121, 2, 226, 331, 43, 501, 5, 1122, 59, 98, 2, 59, 390, 17, 1, 524, 52, 79, 300, 303, 655, 25, 1, 222, 5, 1123, 28, 1, 1124, 585, 1125, 2, 329, 2, 98, 2, 59, 38, 69, 50, 69, 101, 4, 1, 145, 2, 334, 1126, 1127, 57, 10, 1128, 166, 222, 273, 14, 60, 1129, 95, 79, 1130, 79, 1131, 2, 102, 19, 44, 1132, 5, 71, 8, 95, 69, 226, 2, 50, 69, 9, 273, 60, 56, 128, 1133, 7, 1, 1134, 48, 1, 1135, 18, 567, 107, 2, 419, 107, 217, 329, 2, 1136, 536, 438, 178, 252, 656, 1137, 204, 35, 1, 656, 534, 55, 400, 1138, 4, 58, 93, 433, 657, 3, 658, 657, 3, 140, 4, 58, 172, 3, 58, 212, 4, 58, 70, 172, 3, 109, 4, 58, 67, 4, 58, 1139, 1, 243, 659, 1140, 64, 82, 1, 371, 372, 172, 58, 1141, 222, 1142, 2, 1, 1143, 1144, 258, 519, 4, 1145, 49, 621, 1146, 18, 409, 178, 1147, 1148, 64, 82, 1, 336, 1149, 1150, 660, 1, 311, 225, 70, 216, 2, 1151, 7, 1152, 1, 1153, 1154, 1, 72, 1155, 139, 273, 38, 56, 128, 61, 59, 94, 14, 231, 1156, 310, 2, 160, 56, 128, 205, 38, 61, 17, 113, 69, 50, 69, 59, 2, 1157, 109, 1158, 125, 75, 1, 321, 444, 1159, 28, 445, 1160, 1161, 2, 446, 8, 1162, 7, 91, 9, 545, 49, 7, 8, 88, 265, 2, 535, 1, 259, 7, 96, 28, 1163, 1164, 87, 1165, 362, 8, 661, 233, 446, 1, 662, 202, 3, 447, 157, 8, 85, 2, 1, 1166, 2, 183, 289, 12, 1, 447, 2, 31, 1167, 1, 1168, 3, 1169, 559, 2, 32, 5, 1170, 2, 1, 1171, 8, 288, 248, 191, 4, 87, 1172, 202, 1, 1173, 3, 1, 116, 2, 1174, 384, 178, 1175, 5, 337, 78, 114, 18, 22, 1176, 29, 17, 4, 219, 92, 1177, 338, 4, 1, 72, 642, 70, 117, 6, 53, 1178, 6, 44, 123, 249, 1, 1179, 1180, 1181, 339, 244, 349, 1182, 19, 663, 633, 4, 73, 1183, 4, 6, 44, 401, 1184, 1185, 6, 1186, 664, 431, 2, 235, 267, 1187, 5, 1188, 84, 6, 53, 256, 665, 114, 29, 666, 7, 6, 1189, 245, 6, 312, 6, 312, 94, 479, 29, 666, 7, 6, 448, 245, 31, 14, 6, 312, 94, 596, 2, 643, 31, 4, 265, 34, 2, 115, 7, 6, 96, 2, 1190, 31, 7, 110, 2, 7, 247, 1191, 1192, 2, 31, 1193, 217, 52, 2, 34, 75, 31, 170, 46, 1194, 76, 2, 6, 448, 1195, 31, 208, 2, 9, 340, 16, 31, 29, 542, 2, 249, 6, 186, 1196, 33, 1, 34, 174, 1197, 1, 586, 4, 1, 115, 1198, 71, 6, 448, 1199, 539, 1, 114, 11, 103, 154, 1200, 444, 163, 69, 185, 79, 1201, 163, 45, 79, 10, 31, 1202, 5, 267, 1203, 1204, 185, 5, 99, 2, 44, 82, 23, 30, 133, 48, 406, 3, 6, 481, 128, 30, 133, 19, 1, 11, 315, 16, 1205, 207, 1206, 232, 1, 403, 1, 626, 341, 40, 2, 97, 1, 54, 4, 220, 1207, 9, 1208, 8, 195, 9, 209, 107, 40, 8, 11, 1209, 2, 17, 1210, 1, 1211, 91, 2, 1212, 12, 1, 1213, 399, 1214, 36, 663, 10, 564, 143, 9, 338, 57, 1215, 667, 207, 26, 1216, 3, 43, 409, 88, 447, 1, 86, 54, 205, 14, 38, 97, 1, 86, 325, 123, 4, 219, 13, 668, 107, 5, 8, 11, 1217, 2, 431, 107, 4, 46, 669, 430, 2, 670, 107, 4, 88, 671, 35, 168, 174, 555, 670, 171, 1, 86, 325, 123, 4, 219, 39, 197, 261, 439, 12, 1218, 426, 11, 316, 154, 95, 3, 1, 583, 672, 1219, 78, 1220, 1221, 99, 16, 4, 1222, 234, 30, 32, 30, 29, 267, 1223, 4, 1, 672, 3, 214, 201, 25, 263, 177, 147, 2, 330, 76, 5, 1, 88, 105, 244, 4, 1, 673, 365, 83, 303, 336, 1224, 192, 7, 486, 91, 1225, 4, 186, 76, 35, 1, 88, 105, 174, 1226, 1227, 1, 1228, 3, 1, 34, 28, 4, 291, 52, 12, 1, 184, 13, 127, 325, 113, 1229, 1230, 134, 14, 204, 2, 1, 330, 233, 1231, 24, 109, 326, 7, 674, 32, 13, 1232, 5, 433, 33, 1, 156, 47, 1233, 66, 119, 136, 2, 1, 235, 326, 1234, 42, 5, 24, 44, 90, 134, 1, 330, 76, 18, 8, 1235, 239, 19, 1, 88, 189, 17, 24, 124, 1236, 7, 449, 1237, 1238, 246, 2, 327, 5, 27, 44, 298, 104, 1, 220, 109, 104, 1, 662, 91, 16, 1239, 1, 429, 3, 6, 1240, 195, 1, 1241, 30, 5, 297, 12, 221, 144, 33, 101, 39, 1242, 12, 58, 114, 1, 639, 1243, 1244, 8, 650, 2, 1, 472, 1245, 7, 21, 104, 36, 32, 1246, 18, 5, 162, 5, 1247, 4, 221, 144, 104, 31, 1248, 17, 37, 41, 287, 594, 270, 1249, 1, 11, 357, 675, 1, 52, 4, 1250, 2, 676, 188, 28, 166, 1251, 1252, 89, 2, 675, 168, 46, 1253, 677, 79, 4, 6, 189, 23, 450, 83, 79, 89, 4, 1254, 544, 416, 178, 7, 1, 1255, 1256, 82, 23, 1, 315, 16, 10, 225, 26, 37, 89, 4, 1257, 2, 98, 82, 23, 54, 33, 265, 1258, 18, 1259, 8, 124, 630, 2, 1260, 8, 336, 145, 104, 44, 2, 53, 61, 595, 39, 1261, 2, 429, 443, 41, 2, 61, 1, 124, 1262, 39, 668, 3, 22, 37, 4, 1, 1263, 52, 40, 117, 2, 91, 676, 82, 51, 1, 221, 126, 4, 37, 48, 1, 221, 678, 679, 48, 82, 51, 59, 1264, 36, 1265, 420, 48, 361, 1, 1266, 255, 33, 1, 660, 3, 263, 679, 5, 1267, 1268, 66, 10, 225, 3, 342, 1269, 393, 38, 1270, 7, 1, 116, 5, 297, 25, 1271, 201, 28, 36, 60, 5, 153, 7, 15, 1, 680, 1272, 25, 1273, 2, 1274, 443, 4, 1, 144, 4, 228, 508, 18, 160, 1275, 223, 249, 47, 1, 680, 135, 5, 378, 2, 42, 20, 53, 3, 6, 342, 681, 7, 445, 451, 1276, 6, 111, 2, 7, 1277, 605, 1278, 96, 451, 606, 6, 1279, 138, 2, 584, 451, 614, 6, 282, 4, 1280, 323, 2, 21, 5, 342, 148, 1281, 1, 223, 3, 1282, 576, 21, 201, 28, 36, 60, 5, 153, 7, 15, 1, 67, 3, 1, 421, 582, 147, 3, 83, 106, 1283, 2, 71, 1, 1284, 144, 159, 3, 1285, 311, 225, 1286, 10, 218, 2, 376, 3, 667, 176, 1287, 2, 1288, 1289, 1290, 10, 46, 1291, 1292, 1293, 682, 1294, 24, 324, 82, 168, 60, 423, 92, 13, 1295, 17, 34, 157, 598, 3, 1, 683, 2, 417, 13, 99, 14, 36, 18, 91, 2, 655, 5, 1296, 1297, 33, 13, 213, 38, 209, 1298, 211, 159, 445, 248, 72, 111, 2, 428, 72, 93, 449, 1, 72, 155, 211, 2, 1299, 1, 72, 307, 1, 72, 307, 10, 659, 669, 1, 72, 155, 1300, 1301, 1, 72, 93, 641, 1302, 1, 72, 111, 87, 1303, 1304, 1305, 515, 1306, 2, 1307, 40, 276, 211, 159, 29, 62, 1308, 4, 1, 164, 3, 347, 2, 3, 348, 459, 276, 1, 189, 3, 63, 63, 1309, 55, 1, 1310, 99, 36, 10, 4, 1, 684, 48, 425, 20, 162, 685, 1, 1311, 23, 1312, 38, 499, 4, 370, 1313, 48, 30, 4, 150, 1314, 1, 189, 3, 63, 1, 1315, 1316, 1317, 276, 63, 1, 1318, 3, 1319, 1320, 209, 129, 22, 673, 547, 17, 18, 1, 1321, 77, 4, 1322, 384, 1, 628, 210, 5, 274, 41, 19, 115, 272, 25, 24, 342, 52, 49, 40, 1, 375, 3, 1323, 24, 247, 67, 10, 97, 2, 294, 24, 275, 1324, 1325, 19, 115, 299, 148, 3, 78, 43, 145, 80, 415, 1, 1326, 3, 1, 352, 80, 274, 200, 95, 3, 1, 145, 225, 18, 5, 158, 611, 188, 63, 10, 19, 686, 1327, 2, 19, 1328, 73, 19, 1329, 4, 1330, 19, 619, 4, 1, 352, 19, 385, 3, 418, 19, 158, 84, 46, 418, 93, 19, 1, 1331, 67, 19, 1332, 52, 19, 1333, 4, 1, 210, 188, 275, 190, 118, 21, 49, 2, 275, 358, 6, 85, 2, 275, 47, 1, 47, 3, 223, 2, 1334, 64, 1, 67, 3, 107, 16, 1335, 4, 1, 186, 4, 1, 228, 234, 1, 1336, 3, 1, 343, 687, 4, 1, 335, 184, 452, 1, 302, 187, 2, 143, 68, 686, 1337, 2, 68, 373, 180, 2, 30, 5, 394, 4, 453, 130, 45, 327, 1, 1338, 1339, 1340, 1341, 12, 6, 85, 242, 68, 1342, 25, 119, 2, 9, 16, 110, 12, 17, 1343, 4, 1, 343, 2, 252, 144, 157, 21, 446, 8, 137, 368, 360, 20, 335, 184, 20, 311, 225, 271, 250, 20, 275, 187, 3, 156, 277, 2, 3, 334, 1344, 26, 20, 51, 38, 624, 4, 105, 2, 609, 7, 115, 1345, 75, 612, 238, 1346, 15, 313, 1, 1347, 2, 1, 454, 5, 1348, 4, 322, 130, 13, 80, 213, 63, 688, 80, 213, 1, 1349, 3, 1, 130, 3, 344, 1350, 258, 77, 1351, 1352, 4, 96, 28, 341, 49, 4, 24, 370, 1353, 63, 452, 20, 11, 142, 3, 1, 1354, 343, 1355, 5, 1356, 16, 23, 14, 1357, 1, 1358, 1, 66, 326, 1, 631, 179, 1359, 1, 284, 74, 9, 1360, 1, 689, 1361, 9, 1362, 27, 132, 81, 20, 1363, 1364, 4, 8, 93, 579, 8, 169, 2, 1365, 1366, 25, 17, 1367, 1368, 27, 1369, 179, 1370, 1, 150, 690, 27, 1371, 1372, 20, 236, 1373, 12, 58, 11, 1374, 3, 184, 16, 454, 1375, 1, 1376, 1377, 1378, 1, 331, 687, 1379, 18, 63, 10, 19, 1380, 73, 1381, 166, 1, 291, 100, 279, 25, 6, 1382, 691, 2, 57, 51, 337, 6, 671, 268, 3, 1, 130, 1, 271, 692, 685, 1, 124, 73, 2, 31, 51, 198, 15, 80, 31, 1383, 4, 1, 115, 412, 2, 80, 31, 1384, 87, 76, 272, 693, 1, 1385, 210, 478, 11, 73, 387, 171, 1, 138, 3, 63, 1, 73, 1386, 2, 1, 271, 694, 24, 334, 85, 2, 333, 5, 243, 24, 1387, 695, 146, 1, 1388, 184, 1389, 11, 73, 1, 142, 143, 695, 15, 5, 198, 21, 80, 20, 1390, 181, 33, 4, 338, 677, 20, 274, 41, 28, 59, 51, 203, 15, 18, 14, 337, 188, 63, 10, 19, 5, 15, 696, 41, 242, 688, 2, 56, 338, 283, 6, 67, 1, 73, 28, 1391, 8, 150, 85, 8, 76, 155, 1392, 1393, 2, 1394, 12, 1, 210, 171, 1, 93, 3, 63, 142, 99, 455, 20, 14, 43, 1395, 329, 3, 1, 150, 454, 35, 1396, 179, 587, 8, 1397, 1398, 20, 12, 6, 147, 2, 1399, 20, 266, 279, 2, 68, 193, 56, 128, 697, 1400, 187, 198, 15, 33, 696, 41, 31, 10, 5, 1401, 148, 5, 30, 5, 125, 2, 1402, 88, 549, 541, 1403, 6, 105, 440, 84, 1404, 132, 2, 1405, 1, 1406, 1407, 299, 5, 450, 21, 5, 24, 456, 369, 1, 86, 142, 220, 1408, 171, 1, 1409, 100, 75, 59, 126, 1410, 4, 150, 1411, 2, 62, 681, 18, 380, 1412, 1413, 345, 5, 17, 43, 124, 132, 236, 20, 11, 73, 109, 16, 68, 14, 19, 15, 26, 380, 178, 1, 130, 3, 344, 2, 1414, 1, 1415, 132, 18, 289, 14, 1, 11, 132, 64, 1, 698, 101, 18, 289, 14, 1, 698, 101, 13, 183, 2, 203, 22, 345, 18, 63, 1416, 4, 200, 56, 128, 266, 274, 41, 2, 17, 51, 167, 552, 699, 78, 456, 1417, 1418, 48, 94, 77, 434, 199, 5, 38, 166, 223, 1, 345, 3, 457, 1, 73, 1419, 84, 8, 1420, 691, 2, 452, 294, 28, 61, 20, 224, 1, 345, 3, 457, 142, 3, 1, 285, 82, 700, 27, 699, 82, 700, 27, 551, 58, 261, 16, 701, 701, 14, 1421, 79, 48, 185, 109, 14, 2, 367, 230, 1, 327, 120, 25, 87, 453, 161, 2, 20, 654, 64, 87, 67, 106, 647, 120, 2, 1, 156, 343, 5, 27, 1422, 268, 1, 339, 120, 1423, 2, 341, 84, 1, 702, 703, 2, 1, 76, 73, 1424, 12, 5, 337, 8, 1425, 4, 1, 1426, 1427, 28, 63, 1428, 1429, 1, 120, 84, 87, 424, 161, 224, 20, 120, 159, 3, 658, 224, 20, 18, 120, 71, 15, 19, 46, 70, 1430, 4, 1, 702, 703, 188, 42, 14, 11, 67, 20, 23, 455, 14, 298, 18, 20, 23, 455, 42, 10, 78, 120, 71, 13, 118, 339, 244, 86, 2, 458, 5, 591, 458, 5, 402, 15, 7, 480, 110, 1, 432, 3, 323, 97, 1, 457, 67, 1431, 24, 253, 85, 77, 694, 157, 1, 86, 70, 2, 24, 148, 1432, 4, 689, 1433, 28, 12, 63, 77, 1434, 24, 335, 138, 272, 3, 1, 130, 3, 344, 59, 199, 14, 26, 1435, 20, 1436, 21, 1, 1437, 261, 2, 45, 68, 1438, 6, 296, 3, 185, 10, 177, 2, 3, 185, 10, 176, 18, 9, 16, 444, 1, 453, 1439, 8, 704, 84, 6, 85, 2, 674, 21, 2, 1440, 8, 1441, 664, 232, 6, 256, 2, 1442, 20, 53, 3, 6, 95, 60, 1443, 15, 2, 60, 427, 15, 386, 16, 458, 23, 450, 41, 18, 82, 78, 10, 32, 187, 99, 14, 2, 23, 14, 99, 705, 2, 23, 14, 705, 242, 199, 2, 30, 1, 1444, 3, 272, 1445, 24, 253, 96, 7, 24, 90, 1446, 2, 143, 1447, 340, 14, 78, 2, 706, 94, 42, 16, 102, 273, 30, 120, 340, 2, 1448, 1, 1449, 661, 16, 1450, 1451, 87, 339, 155, 18, 16, 9, 402, 31, 7, 1452, 2, 704, 62, 340, 2, 706, 94, 42, 2, 1453, 4, 1, 169, 210, 266, 274, 41, 2, 118, 21, 49, 4, 27, 177, 161, 2, 570, 6, 456, 468, 268, 3, 1, 130, 1, 1454, 323, 692, 97, 27, 527, 2, 17, 27, 388, 518, 66, 6, 1455, 18, 60, 230, 152, 49, 425, 20, 268, 346, 6, 1456, 1457, 427, 15, 5, 346, 2, 5, 306, 109, 697, 346, 7, 27, 142, 251, 1458, 1, 322, 653, 1459, 1460, 1461, 1, 1462, 1463, 63, 346, 4, 165, 1, 1464, 3, 1, 262, 1465, 77, 165, 1, 1466, 3, 1, 683, 35, 1, 1467, 682, 3, 58, 111, 12, 116, 1468, 136, 87, 1469, 1470, 262, 3, 578, 3, 96, 35, 62, 158, 29, 193, 77, 438, 4, 1, 262, 3, 376, 693, 277, 176, 707, 1471, 1472, 1473, 1474, 313, 1, 424, 436, 77, 617, 4, 1475, 707, 5, 1, 413, 3, 1, 259, 75, 5, 24, 305, 436, 1476, 77, 134, 92, 77, 341, 49, 2, 97, 78, 67, 3, 117, 1477, 25, 1, 351, 684, 80, 23, 14, 1, 708, 38, 1478, 5, 87, 305, 1479, 48, 1, 1480, 270, 5, 1, 665, 3, 158, 80, 39, 1481, 1482, 7, 1483, 482, 1484, 35, 634, 1485, 293, 4, 1486, 562, 48, 46, 270, 3, 1487, 1488, 1489, 678, 1490, 214, 80, 282, 1491, 7, 690, 25, 58, 377, 80, 46, 708, 1492, 1493, 5, 1494, 1495, 4, 80, 1496, 1497, 1498, 449, 220, 1499, 80, 124, 1500, 84, 1, 336, 441, 103, 80, 11, 1501, 3, 1502, 12, 1, 161, 3, 43, 645, 1, 142, 1503, 25, 24, 1504, 7, 620, 218, 374, 1505, 75, 77, 134, 249, 1, 130, 3, 344]\n"
          ]
        }
      ]
    },
    {
      "cell_type": "code",
      "source": [
        "# reshape the input sequences to be 3-dimensional\n",
        "X = np.reshape(input_sequence, (len(input_sequence), input_seq_length, 1))\n",
        "\n",
        "# Normalise the data by dividing by the max number of unique words (the vocab size)\n",
        "X = X / float(vocab_size)\n",
        "\n",
        "# one-hot encode the output words so that they can be used by the model (converts the output to 2-dimensions)\n",
        "y = to_categorical(output_words)"
      ],
      "metadata": {
        "id": "1fVThI4avgeN"
      },
      "execution_count": 28,
      "outputs": []
    },
    {
      "cell_type": "code",
      "source": [
        "X"
      ],
      "metadata": {
        "colab": {
          "base_uri": "https://localhost:8080/"
        },
        "id": "DuyTBe5evlXj",
        "outputId": "54d4c7ce-5bc3-4ca0-9a28-cdecb86240b8"
      },
      "execution_count": 29,
      "outputs": [
        {
          "output_type": "execute_result",
          "data": {
            "text/plain": [
              "array([[[4.70783533e-01],\n",
              "        [2.65604250e-02],\n",
              "        [3.04780876e-01],\n",
              "        ...,\n",
              "        [1.83930943e-01],\n",
              "        [8.03452855e-02],\n",
              "        [2.31739708e-01]],\n",
              "\n",
              "       [[2.65604250e-02],\n",
              "        [3.04780876e-01],\n",
              "        [1.83266932e-01],\n",
              "        ...,\n",
              "        [8.03452855e-02],\n",
              "        [2.31739708e-01],\n",
              "        [1.08897742e-01]],\n",
              "\n",
              "       [[3.04780876e-01],\n",
              "        [1.83266932e-01],\n",
              "        [1.08897742e-01],\n",
              "        ...,\n",
              "        [2.31739708e-01],\n",
              "        [1.08897742e-01],\n",
              "        [1.99203187e-03]],\n",
              "\n",
              "       ...,\n",
              "\n",
              "       [[9.96679947e-01],\n",
              "        [1.99203187e-03],\n",
              "        [9.97343958e-01],\n",
              "        ...,\n",
              "        [8.89774236e-02],\n",
              "        [1.65338645e-01],\n",
              "        [6.64010624e-04]],\n",
              "\n",
              "       [[1.99203187e-03],\n",
              "        [9.97343958e-01],\n",
              "        [7.96812749e-03],\n",
              "        ...,\n",
              "        [1.65338645e-01],\n",
              "        [6.64010624e-04],\n",
              "        [8.63213811e-02]],\n",
              "\n",
              "       [[9.97343958e-01],\n",
              "        [7.96812749e-03],\n",
              "        [6.64010624e-04],\n",
              "        ...,\n",
              "        [6.64010624e-04],\n",
              "        [8.63213811e-02],\n",
              "        [1.99203187e-03]]])"
            ]
          },
          "metadata": {},
          "execution_count": 29
        }
      ]
    },
    {
      "cell_type": "code",
      "source": [
        "y"
      ],
      "metadata": {
        "colab": {
          "base_uri": "https://localhost:8080/"
        },
        "id": "KjDa-m7ZvoFo",
        "outputId": "b42c445f-45e8-4931-c040-d4e593a95d0e"
      },
      "execution_count": 31,
      "outputs": [
        {
          "output_type": "execute_result",
          "data": {
            "text/plain": [
              "array([[0., 0., 0., ..., 0., 0., 0.],\n",
              "       [0., 0., 0., ..., 0., 0., 0.],\n",
              "       [0., 0., 0., ..., 0., 0., 0.],\n",
              "       ...,\n",
              "       [0., 0., 0., ..., 0., 0., 0.],\n",
              "       [0., 0., 0., ..., 0., 0., 0.],\n",
              "       [0., 0., 0., ..., 0., 0., 0.]], dtype=float32)"
            ]
          },
          "metadata": {},
          "execution_count": 31
        }
      ]
    },
    {
      "cell_type": "markdown",
      "source": [
        "# Generating LSTM Model"
      ],
      "metadata": {
        "id": "a4-CmwoDv0g3"
      }
    },
    {
      "cell_type": "code",
      "source": [
        "# create, compile and fit the model\n",
        "model = Sequential()\n",
        "model.add(LSTM(800, input_shape=(X.shape[1], X.shape[2]), return_sequences=False))\n",
        "model.add(Dropout(0.5))\n",
        "model.add(Dense(y.shape[1], activation='softmax'))\n",
        "model.summary()\n",
        "model.compile(loss='categorical_crossentropy', optimizer='adam')\n",
        "model.fit(X, y, batch_size=64, epochs=100, verbose=1)"
      ],
      "metadata": {
        "colab": {
          "base_uri": "https://localhost:8080/"
        },
        "id": "jER2Q_mmv0u7",
        "outputId": "5bff3330-b1fd-4a48-b910-97f819522e7e"
      },
      "execution_count": 37,
      "outputs": [
        {
          "output_type": "stream",
          "name": "stdout",
          "text": [
            "Model: \"sequential_2\"\n",
            "_________________________________________________________________\n",
            " Layer (type)                Output Shape              Param #   \n",
            "=================================================================\n",
            " lstm_2 (LSTM)               (None, 800)               2566400   \n",
            "                                                                 \n",
            " dropout (Dropout)           (None, 800)               0         \n",
            "                                                                 \n",
            " dense_1 (Dense)             (None, 1506)              1206306   \n",
            "                                                                 \n",
            "=================================================================\n",
            "Total params: 3,772,706\n",
            "Trainable params: 3,772,706\n",
            "Non-trainable params: 0\n",
            "_________________________________________________________________\n",
            "Epoch 1/100\n",
            "103/103 [==============================] - 107s 1s/step - loss: 6.4824\n",
            "Epoch 2/100\n",
            "103/103 [==============================] - 98s 956ms/step - loss: 6.2257\n",
            "Epoch 3/100\n",
            "103/103 [==============================] - 96s 929ms/step - loss: 6.1993\n",
            "Epoch 4/100\n",
            "103/103 [==============================] - 98s 952ms/step - loss: 6.1907\n",
            "Epoch 5/100\n",
            "103/103 [==============================] - 98s 953ms/step - loss: 6.1793\n",
            "Epoch 6/100\n",
            "103/103 [==============================] - 95s 925ms/step - loss: 6.1743\n",
            "Epoch 7/100\n",
            "103/103 [==============================] - 98s 947ms/step - loss: 6.1659\n",
            "Epoch 8/100\n",
            "103/103 [==============================] - 99s 959ms/step - loss: 6.1685\n",
            "Epoch 9/100\n",
            "103/103 [==============================] - 96s 932ms/step - loss: 6.1673\n",
            "Epoch 10/100\n",
            "103/103 [==============================] - 98s 951ms/step - loss: 6.1673\n",
            "Epoch 11/100\n",
            "103/103 [==============================] - 92s 895ms/step - loss: 6.1630\n",
            "Epoch 12/100\n",
            "103/103 [==============================] - 94s 918ms/step - loss: 6.1595\n",
            "Epoch 13/100\n",
            "103/103 [==============================] - 99s 961ms/step - loss: 6.1602\n",
            "Epoch 14/100\n",
            "103/103 [==============================] - 94s 915ms/step - loss: 6.1548\n",
            "Epoch 15/100\n",
            "103/103 [==============================] - 96s 938ms/step - loss: 6.1519\n",
            "Epoch 16/100\n",
            "103/103 [==============================] - 95s 918ms/step - loss: 6.1450\n",
            "Epoch 17/100\n",
            "103/103 [==============================] - 96s 934ms/step - loss: 6.1338\n",
            "Epoch 18/100\n",
            "103/103 [==============================] - 97s 935ms/step - loss: 6.1210\n",
            "Epoch 19/100\n",
            "103/103 [==============================] - 96s 932ms/step - loss: 6.0933\n",
            "Epoch 20/100\n",
            "103/103 [==============================] - 94s 911ms/step - loss: 6.0636\n",
            "Epoch 21/100\n",
            "103/103 [==============================] - 92s 895ms/step - loss: 6.0152\n",
            "Epoch 22/100\n",
            "103/103 [==============================] - 91s 884ms/step - loss: 5.9529\n",
            "Epoch 23/100\n",
            "103/103 [==============================] - 92s 894ms/step - loss: 5.8675\n",
            "Epoch 24/100\n",
            "103/103 [==============================] - 92s 892ms/step - loss: 5.7645\n",
            "Epoch 25/100\n",
            "103/103 [==============================] - 95s 919ms/step - loss: 5.6323\n",
            "Epoch 26/100\n",
            "103/103 [==============================] - 90s 874ms/step - loss: 5.4826\n",
            "Epoch 27/100\n",
            "103/103 [==============================] - 92s 889ms/step - loss: 5.2877\n",
            "Epoch 28/100\n",
            "103/103 [==============================] - 89s 869ms/step - loss: 5.0717\n",
            "Epoch 29/100\n",
            "103/103 [==============================] - 87s 849ms/step - loss: 4.8407\n",
            "Epoch 30/100\n",
            "103/103 [==============================] - 93s 906ms/step - loss: 4.5498\n",
            "Epoch 31/100\n",
            "103/103 [==============================] - 90s 879ms/step - loss: 4.2673\n",
            "Epoch 32/100\n",
            "103/103 [==============================] - 91s 888ms/step - loss: 3.9406\n",
            "Epoch 33/100\n",
            "103/103 [==============================] - 91s 883ms/step - loss: 3.6010\n",
            "Epoch 34/100\n",
            "103/103 [==============================] - 91s 881ms/step - loss: 3.2657\n",
            "Epoch 35/100\n",
            "103/103 [==============================] - 91s 882ms/step - loss: 2.9307\n",
            "Epoch 36/100\n",
            "103/103 [==============================] - 92s 897ms/step - loss: 2.6283\n",
            "Epoch 37/100\n",
            "103/103 [==============================] - 91s 878ms/step - loss: 2.3084\n",
            "Epoch 38/100\n",
            "103/103 [==============================] - 89s 862ms/step - loss: 2.0013\n",
            "Epoch 39/100\n",
            "103/103 [==============================] - 91s 881ms/step - loss: 1.7490\n",
            "Epoch 40/100\n",
            "103/103 [==============================] - 93s 906ms/step - loss: 1.5106\n",
            "Epoch 41/100\n",
            "103/103 [==============================] - 92s 893ms/step - loss: 1.3043\n",
            "Epoch 42/100\n",
            "103/103 [==============================] - 91s 885ms/step - loss: 1.1091\n",
            "Epoch 43/100\n",
            "103/103 [==============================] - 95s 919ms/step - loss: 0.9372\n",
            "Epoch 44/100\n",
            "103/103 [==============================] - 95s 925ms/step - loss: 0.7921\n",
            "Epoch 45/100\n",
            "103/103 [==============================] - 91s 886ms/step - loss: 0.6710\n",
            "Epoch 46/100\n",
            "103/103 [==============================] - 92s 892ms/step - loss: 0.5801\n",
            "Epoch 47/100\n",
            "103/103 [==============================] - 94s 908ms/step - loss: 0.4881\n",
            "Epoch 48/100\n",
            "103/103 [==============================] - 89s 864ms/step - loss: 0.4184\n",
            "Epoch 49/100\n",
            "103/103 [==============================] - 91s 889ms/step - loss: 0.3811\n",
            "Epoch 50/100\n",
            "103/103 [==============================] - 94s 916ms/step - loss: 0.3220\n",
            "Epoch 51/100\n",
            "103/103 [==============================] - 96s 933ms/step - loss: 0.2796\n",
            "Epoch 52/100\n",
            "103/103 [==============================] - 90s 872ms/step - loss: 0.2529\n",
            "Epoch 53/100\n",
            "103/103 [==============================] - 93s 906ms/step - loss: 0.2407\n",
            "Epoch 54/100\n",
            "103/103 [==============================] - 94s 914ms/step - loss: 0.1873\n",
            "Epoch 55/100\n",
            "103/103 [==============================] - 94s 910ms/step - loss: 0.1663\n",
            "Epoch 56/100\n",
            "103/103 [==============================] - 90s 878ms/step - loss: 0.1535\n",
            "Epoch 57/100\n",
            "103/103 [==============================] - 92s 889ms/step - loss: 0.1398\n",
            "Epoch 58/100\n",
            "103/103 [==============================] - 92s 896ms/step - loss: 0.1210\n",
            "Epoch 59/100\n",
            "103/103 [==============================] - 92s 887ms/step - loss: 0.1081\n",
            "Epoch 60/100\n",
            "103/103 [==============================] - 92s 890ms/step - loss: 0.0981\n",
            "Epoch 61/100\n",
            "103/103 [==============================] - 90s 871ms/step - loss: 0.0943\n",
            "Epoch 62/100\n",
            "103/103 [==============================] - 94s 910ms/step - loss: 0.0963\n",
            "Epoch 63/100\n",
            "103/103 [==============================] - 97s 947ms/step - loss: 0.1557\n",
            "Epoch 64/100\n",
            "103/103 [==============================] - 92s 893ms/step - loss: 0.2074\n",
            "Epoch 65/100\n",
            "103/103 [==============================] - 89s 869ms/step - loss: 0.2363\n",
            "Epoch 66/100\n",
            "103/103 [==============================] - 92s 893ms/step - loss: 0.1666\n",
            "Epoch 67/100\n",
            "103/103 [==============================] - 91s 884ms/step - loss: 0.1176\n",
            "Epoch 68/100\n",
            "103/103 [==============================] - 90s 873ms/step - loss: 0.0813\n",
            "Epoch 69/100\n",
            "103/103 [==============================] - 90s 874ms/step - loss: 0.0656\n",
            "Epoch 70/100\n",
            "103/103 [==============================] - 91s 883ms/step - loss: 0.0582\n",
            "Epoch 71/100\n",
            "103/103 [==============================] - 93s 902ms/step - loss: 0.0496\n",
            "Epoch 72/100\n",
            "103/103 [==============================] - 91s 882ms/step - loss: 0.0510\n",
            "Epoch 73/100\n",
            "103/103 [==============================] - 92s 889ms/step - loss: 0.0877\n",
            "Epoch 74/100\n",
            "103/103 [==============================] - 90s 870ms/step - loss: 0.1713\n",
            "Epoch 75/100\n",
            "103/103 [==============================] - 92s 895ms/step - loss: 0.3397\n",
            "Epoch 76/100\n",
            "103/103 [==============================] - 89s 869ms/step - loss: 0.2338\n",
            "Epoch 77/100\n",
            "103/103 [==============================] - 90s 879ms/step - loss: 0.1111\n",
            "Epoch 78/100\n",
            "103/103 [==============================] - 91s 886ms/step - loss: 0.0645\n",
            "Epoch 79/100\n",
            "103/103 [==============================] - 88s 857ms/step - loss: 0.0526\n",
            "Epoch 80/100\n",
            "103/103 [==============================] - 92s 898ms/step - loss: 0.0769\n",
            "Epoch 81/100\n",
            "103/103 [==============================] - 93s 902ms/step - loss: 0.0694\n",
            "Epoch 82/100\n",
            "103/103 [==============================] - 95s 922ms/step - loss: 0.0446\n",
            "Epoch 83/100\n",
            "103/103 [==============================] - 99s 964ms/step - loss: 0.0436\n",
            "Epoch 84/100\n",
            "103/103 [==============================] - 98s 953ms/step - loss: 0.0567\n",
            "Epoch 85/100\n",
            "103/103 [==============================] - 96s 928ms/step - loss: 0.1010\n",
            "Epoch 86/100\n",
            "103/103 [==============================] - 96s 935ms/step - loss: 0.2238\n",
            "Epoch 87/100\n",
            "103/103 [==============================] - 93s 905ms/step - loss: 0.1269\n",
            "Epoch 88/100\n",
            "103/103 [==============================] - 92s 897ms/step - loss: 0.0723\n",
            "Epoch 89/100\n",
            "103/103 [==============================] - 94s 907ms/step - loss: 0.0874\n",
            "Epoch 90/100\n",
            "103/103 [==============================] - 92s 894ms/step - loss: 0.0561\n",
            "Epoch 91/100\n",
            "103/103 [==============================] - 93s 902ms/step - loss: 0.0660\n",
            "Epoch 92/100\n",
            "103/103 [==============================] - 93s 902ms/step - loss: 0.0473\n",
            "Epoch 93/100\n",
            "103/103 [==============================] - 92s 892ms/step - loss: 0.0397\n",
            "Epoch 94/100\n",
            "103/103 [==============================] - 92s 893ms/step - loss: 0.0281\n",
            "Epoch 95/100\n",
            "103/103 [==============================] - 91s 883ms/step - loss: 0.0200\n",
            "Epoch 96/100\n",
            "103/103 [==============================] - 93s 896ms/step - loss: 0.0158\n",
            "Epoch 97/100\n",
            "103/103 [==============================] - 91s 886ms/step - loss: 0.0141\n",
            "Epoch 98/100\n",
            "103/103 [==============================] - 90s 873ms/step - loss: 0.0145\n",
            "Epoch 99/100\n",
            "103/103 [==============================] - 93s 907ms/step - loss: 0.0154\n",
            "Epoch 100/100\n",
            "103/103 [==============================] - 93s 903ms/step - loss: 0.0286\n"
          ]
        },
        {
          "output_type": "execute_result",
          "data": {
            "text/plain": [
              "<keras.callbacks.History at 0x7f4351051220>"
            ]
          },
          "metadata": {},
          "execution_count": 37
        }
      ]
    },
    {
      "cell_type": "markdown",
      "source": [
        "# Making Prediction"
      ],
      "metadata": {
        "id": "7LoQFU1cwA25"
      }
    },
    {
      "cell_type": "code",
      "source": [
        "# Make Predictions\n",
        "random_seq_index = np.random.randint(0, len(input_sequence)-1)    # select a random number from within the range of the number of input sequences\n",
        "random_seq = input_sequence[random_seq_index]                     # get the input sequence that occurs at the randomly selected index (this is a list of integers)\n",
        "\n",
        "index_2_word = dict(map(reversed, word_2_index.items())) # convert the integer sequence to its words\n",
        "seed_word_sequence = [index_2_word[value] for value in random_seq]  # get the list of words that correspond to the integers in the randomly picked sequence\n",
        "\n",
        "# join the words in the list and print the sequence of words\n",
        "print(' '.join(seed_word_sequence))  # this prints the words from the randomly picked sequence that will be the seed for our prediction\n"
      ],
      "metadata": {
        "colab": {
          "base_uri": "https://localhost:8080/"
        },
        "id": "y45H3FtFwClk",
        "outputId": "44596d71-8499-4c6d-e0d3-a079c87ceb04"
      },
      "execution_count": 38,
      "outputs": [
        {
          "output_type": "stream",
          "name": "stdout",
          "text": [
            "it possible to thought greater than itself to know and father how can love you or any of my brothers more love you like the\n"
          ]
        }
      ]
    },
    {
      "cell_type": "code",
      "source": [
        "# Predict next 25 words\n",
        "word_sequence = []\n",
        "for i in range(25):\n",
        "    int_sample = np.reshape(random_seq, (1, len(random_seq), 1))    # reshape to make 3-D input (1 sequence, length of the sequence, 1 because the first LSTM requires another dimension)\n",
        "    int_sample = int_sample / float(vocab_size)                     # normalise (as we normalised the training data)\n",
        "\n",
        "    predicted_word_index = model.predict(int_sample, verbose=0)     # predict the next word.  An array of the probabilities for each word in the vocab is returned.\n",
        "    predicted_word_id = np.argmax(predicted_word_index)             # get the index of the maximum value (they are categorical so the max value gives the word in the vocab with the highest probability)\n",
        "    word_sequence.append(index_2_word[ predicted_word_id])          # get the predicted word by finding the word at the predicted index and add it to our predicted word sequence list\n",
        "\n",
        "    random_seq.append(predicted_word_id)                            # append the predicted word index to the next seuqence to be input into the model predict method\n",
        "    random_seq = random_seq[1:len(random_seq)]                      # remove the first element of the sequence so it now has the new word but is the same length.\n"
      ],
      "metadata": {
        "id": "evKNoGQ5wGbE"
      },
      "execution_count": 39,
      "outputs": []
    },
    {
      "cell_type": "code",
      "source": [
        "# BLEU score\n",
        "seq = [' '.join(w) for w in input_sequence_words]\n",
        "from nltk.translate.bleu_score import sentence_bleu\n",
        "reference = seq\n",
        "candidate = ' '.join(word_sequence) # make the list of words into a string\n",
        "score = sentence_bleu(reference, candidate)\n",
        "print('Seed word sequence: %s'%(' '.join(seed_word_sequence)))\n",
        "print('Predicted words: %s'%(candidate))\n",
        "print('BLEU Score for predicted words: %s'%(score))"
      ],
      "metadata": {
        "colab": {
          "base_uri": "https://localhost:8080/"
        },
        "id": "rSVbwytUxS8a",
        "outputId": "34f0c17b-8108-4541-f8a2-6b567907b95c"
      },
      "execution_count": 40,
      "outputs": [
        {
          "output_type": "stream",
          "name": "stdout",
          "text": [
            "Seed word sequence: it possible to thought greater than itself to know and father how can love you or any of my brothers more love you like the\n",
            "Predicted words: little bird that picks up crumbs around the door the priest sat by and heard the child in trembling zeal he seized his hair he\n",
            "BLEU Score for predicted words: 1.0\n"
          ]
        }
      ]
    }
  ]
}